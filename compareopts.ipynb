{
 "cells": [
  {
   "cell_type": "code",
   "execution_count": 1,
   "metadata": {},
   "outputs": [],
   "source": [
    "import matplotlib.pyplot as plt"
   ]
  },
  {
   "cell_type": "code",
   "execution_count": 2,
   "metadata": {},
   "outputs": [],
   "source": [
    "import numpy as np"
   ]
  },
  {
   "cell_type": "code",
   "execution_count": 3,
   "metadata": {},
   "outputs": [],
   "source": [
    "import pathlib"
   ]
  },
  {
   "cell_type": "code",
   "execution_count": 4,
   "metadata": {},
   "outputs": [],
   "source": [
    "import best"
   ]
  },
  {
   "cell_type": "code",
   "execution_count": 5,
   "metadata": {},
   "outputs": [],
   "source": [
    "import sympy as sp"
   ]
  },
  {
   "cell_type": "code",
   "execution_count": 91,
   "metadata": {},
   "outputs": [],
   "source": [
    "from scipy import optimize"
   ]
  },
  {
   "cell_type": "code",
   "execution_count": 6,
   "metadata": {},
   "outputs": [],
   "source": [
    "class SemiAnalytical():\n",
    "    def __init__(self, ells, MandelRep, Bvec):\n",
    "                \n",
    "        \n",
    "        self.E = np.ones(6)\n",
    "        self.P = self.getP()\n",
    "        self.Q = self.getQ()\n",
    "        \n",
    "        self.invM = np.linalg.inv(MandelRep)\n",
    "        self.Bvec = Bvec\n",
    "        \n",
    "        self.K = self.P+np.sqrt(2)*self.Q\n",
    "        \n",
    "        self.ells = ells\n",
    "        \n",
    "        self.C = np.einsum('i, ij -> j', self.E.T, K)\n",
    "        \n",
    "        self._create_stuff()\n",
    "        \n",
    "            \n",
    "    def getP(self):\n",
    "        P = np.zeros((6, 6))\n",
    "        P[0, 0] = 1\n",
    "        P[1, 1] = 1\n",
    "        P[2, 2] = 1\n",
    "        return P\n",
    "    \n",
    "    def getQ(self):\n",
    "        Q = np.zeros((6, 6))\n",
    "        Q[3, 3] = 1\n",
    "        Q[4, 4] = 1\n",
    "        Q[5, 5] = 1\n",
    "        return Q\n",
    "    \n",
    "    \n",
    "    def integrate(self, y, ells):\n",
    "        factor = 4*np.pi\n",
    "        return np.trapz(y*ells, ells)*(2*np.pi)/(2*np.pi)**2*factor\n",
    "        \n",
    "    def _create_stuff(self):\n",
    "        P1 = np.zeros((6, 6))\n",
    "        P1[0, 0] = 1\n",
    "\n",
    "        P2 = np.zeros((6, 6))\n",
    "        P2[0, 1] = 1\n",
    "\n",
    "        P6 = np.zeros((6, 6))\n",
    "        P6[0, 5] = 1\n",
    "\n",
    "        Q = 2*P1.T@P2\n",
    "        self.Z1 = Q-P6.T@P6\n",
    "        self.Q1 = Q\n",
    "        \n",
    "        P1 = np.zeros((6, 6))\n",
    "        P1[0, 0] = 1\n",
    "\n",
    "        P3 = np.zeros((6, 6))\n",
    "        P3[0, 2] = 1\n",
    "\n",
    "        P5 = np.zeros((6, 6))\n",
    "        P5[0, 4] = 1\n",
    "\n",
    "        Q = 2*P1.T@P3\n",
    "        self.Z2 = Q-P5.T@P5\n",
    "        self.Q2 = Q\n",
    "        \n",
    "        P2 = np.zeros((6, 6))\n",
    "        P2[0, 1] = 1\n",
    "\n",
    "        P3 = np.zeros((6, 6))\n",
    "        P3[0, 2] = 1\n",
    "\n",
    "        P4 = np.zeros((6, 6))\n",
    "        P4[0, 3] = 1\n",
    "\n",
    "        Q = 2*P2.T@P3\n",
    "        self.Z3 = Q-P4.T@P4\n",
    "        self.Q3 = Q\n",
    "        \n",
    "    def _get_useful_matrices(self):\n",
    "        Z1, Z2, Z3 = self.Z1, self.Z2, self.Z3\n",
    "        \n",
    "        invMandel = self.invM\n",
    "        K = self.K\n",
    "        C = self.C\n",
    "        E = self.E\n",
    "        \n",
    "        Bvec = self.Bvec\n",
    "        \n",
    "        ells = self.ells\n",
    "        \n",
    "        return ells, Bvec, invMandel, Z1, Z2, Z3, K, C, E\n",
    "        \n",
    "    def getA0_function(self, FB):\n",
    "        ells, Bvec, invMandel, Z1, Z2, Z3, K, C, E = self._get_useful_matrices()\n",
    "            \n",
    "        def getA0(x):\n",
    "            l1, l2, l3 = x\n",
    "            \n",
    "            identity = np.diag(np.ones(6, dtype = float))\n",
    "            R = identity+l1*Z1+l2*Z2+l3*Z3\n",
    "\n",
    "            index = 1\n",
    "            invMandel_selected = invMandel[index, :, :]\n",
    "\n",
    "            invR = identity-l1*Z1+l2*Z2+l3*Z3 \n",
    "            #invR = np.linalg.inv(R)\n",
    "\n",
    "            MM = invR@invMandel_selected\n",
    "\n",
    "            number = np.einsum('ij, jk, k, i', K, MM, C, E)\n",
    "            Norm = self.integrate(number, ells)\n",
    "\n",
    "            number = np.einsum('ij, jk, k, i', K, invMandel_selected, C, E)\n",
    "            Normstd = self.integrate(number, ells)\n",
    "\n",
    "            O = np.einsum('ij, jk, k, i', K, MM, Bvec[index], E)\n",
    "            O = self.integrate(O, ells)\n",
    "\n",
    "            Ofactor = np.einsum('ij, i, j', MM, C, Bvec[index])\n",
    "            Ofactor = self.integrate(Ofactor, ells)\n",
    "\n",
    "            Bfactor = np.einsum('ij, i, j', MM, Bvec[index], Bvec[index])\n",
    "            Bfactor = self.integrate(Bfactor, ells)\n",
    "\n",
    "            den = 1-FB*(O/Norm)*Ofactor+FB*Bfactor\n",
    "            num = (Ofactor/Norm)*np.einsum('ij, j -> i', MM, (O/Norm)*C-Bvec[index])\n",
    "\n",
    "            A0 = MM@C/Norm+FB*num/den\n",
    "\n",
    "            return A0*Normstd #just to help a bit\n",
    "        \n",
    "        return getA0\n",
    "        \n",
    "        \n",
    "        "
   ]
  },
  {
   "cell_type": "code",
   "execution_count": 7,
   "metadata": {},
   "outputs": [
    {
     "ename": "NameError",
     "evalue": "name 'ells' is not defined",
     "output_type": "error",
     "traceback": [
      "\u001b[0;31m---------------------------------------------------------------------------\u001b[0m",
      "\u001b[0;31mNameError\u001b[0m                                 Traceback (most recent call last)",
      "\u001b[0;32m<ipython-input-7-abfad7bbdbc3>\u001b[0m in \u001b[0;36m<module>\u001b[0;34m\u001b[0m\n\u001b[0;32m----> 1\u001b[0;31m \u001b[0mSA\u001b[0m \u001b[0;34m=\u001b[0m \u001b[0mSemiAnalytical\u001b[0m\u001b[0;34m(\u001b[0m\u001b[0mells\u001b[0m\u001b[0;34m,\u001b[0m \u001b[0mMandelMatrix\u001b[0m\u001b[0;34m,\u001b[0m \u001b[0mBvec\u001b[0m\u001b[0;34m)\u001b[0m\u001b[0;34m\u001b[0m\u001b[0;34m\u001b[0m\u001b[0m\n\u001b[0m",
      "\u001b[0;31mNameError\u001b[0m: name 'ells' is not defined"
     ]
    }
   ],
   "source": [
    "SA = SemiAnalytical(ells, MandelMatrix, Bvec)"
   ]
  },
  {
   "cell_type": "code",
   "execution_count": null,
   "metadata": {},
   "outputs": [],
   "source": [
    "getA0 = SA.getA0_function(FB = 0.)"
   ]
  },
  {
   "cell_type": "code",
   "execution_count": null,
   "metadata": {},
   "outputs": [],
   "source": [
    "def function(x):\n",
    "    A0 = getA0(x)\n",
    "    return abs(np.array([A0.T@SA.Z1@A0, A0.T@SA.Z2@A0, A0.T@SA.Z3@A0]))\n",
    "\n",
    "result = optimize.root(function, np.array([0., 0., 0.]), method = 'hybr', \n",
    "                       options = {'maxfev': 10000, 'xtol': 1e-20, 'ftol': 1e-20})\n",
    "result"
   ]
  },
  {
   "cell_type": "code",
   "execution_count": null,
   "metadata": {},
   "outputs": [],
   "source": []
  },
  {
   "cell_type": "code",
   "execution_count": null,
   "metadata": {},
   "outputs": [],
   "source": []
  },
  {
   "cell_type": "code",
   "execution_count": null,
   "metadata": {},
   "outputs": [],
   "source": []
  },
  {
   "cell_type": "code",
   "execution_count": 8,
   "metadata": {},
   "outputs": [],
   "source": [
    "P1 = np.zeros((6, 6))\n",
    "P1[0, 0] = 1\n",
    "#P1 = sp.Matrix(P1)\n",
    "\n",
    "P2 = np.zeros((6, 6))\n",
    "P2[0, 1] = 1\n",
    "#P2 = sp.Matrix(P2)\n",
    "\n",
    "P6 = np.zeros((6, 6))\n",
    "P6[0, 5] = 1\n",
    "#P6 = sp.Matrix(P6)\n",
    "\n",
    "Q = 2*P1.T@P2\n",
    "Z1 = Q-P6.T@P6"
   ]
  },
  {
   "cell_type": "code",
   "execution_count": 9,
   "metadata": {},
   "outputs": [],
   "source": [
    "P1 = np.zeros((6, 6))\n",
    "P1[0, 0] = 1\n",
    "#P1 = sp.Matrix(P1)\n",
    "\n",
    "P3 = np.zeros((6, 6))\n",
    "P3[0, 2] = 1\n",
    "#P3 = sp.Matrix(P2)\n",
    "\n",
    "P5 = np.zeros((6, 6))\n",
    "P5[0, 4] = 1\n",
    "#P5 = sp.Matrix(P5)\n",
    "\n",
    "Q = 2*P1.T@P3\n",
    "Z2 = Q-P5.T@P5"
   ]
  },
  {
   "cell_type": "code",
   "execution_count": 10,
   "metadata": {},
   "outputs": [],
   "source": [
    "P2 = np.zeros((6, 6))\n",
    "P2[0, 1] = 1\n",
    "#P2 = sp.Matrix(P1)\n",
    "\n",
    "P3 = np.zeros((6, 6))\n",
    "P3[0, 2] = 1\n",
    "#P3 = sp.Matrix(P2)\n",
    "\n",
    "P4 = np.zeros((6, 6))\n",
    "P4[0, 3] = 1\n",
    "#P4 = sp.Matrix(P4)\n",
    "\n",
    "Q = 2*P2.T@P3\n",
    "Z3 = Q-P4.T@P4"
   ]
  },
  {
   "cell_type": "code",
   "execution_count": 11,
   "metadata": {},
   "outputs": [
    {
     "ename": "NameError",
     "evalue": "name 'A0' is not defined",
     "output_type": "error",
     "traceback": [
      "\u001b[0;31m---------------------------------------------------------------------------\u001b[0m",
      "\u001b[0;31mNameError\u001b[0m                                 Traceback (most recent call last)",
      "\u001b[0;32m<ipython-input-11-4b3ba878830e>\u001b[0m in \u001b[0;36m<module>\u001b[0;34m\u001b[0m\n\u001b[0;32m----> 1\u001b[0;31m \u001b[0mA0\u001b[0m\u001b[0;34m@\u001b[0m\u001b[0mZ2\u001b[0m\u001b[0;34m@\u001b[0m\u001b[0mA0\u001b[0m\u001b[0;34m\u001b[0m\u001b[0;34m\u001b[0m\u001b[0m\n\u001b[0m",
      "\u001b[0;31mNameError\u001b[0m: name 'A0' is not defined"
     ]
    }
   ],
   "source": [
    "A0@Z2@A0"
   ]
  },
  {
   "cell_type": "code",
   "execution_count": 12,
   "metadata": {},
   "outputs": [
    {
     "ename": "NameError",
     "evalue": "name 'A0' is not defined",
     "output_type": "error",
     "traceback": [
      "\u001b[0;31m---------------------------------------------------------------------------\u001b[0m",
      "\u001b[0;31mNameError\u001b[0m                                 Traceback (most recent call last)",
      "\u001b[0;32m<ipython-input-12-a11ccba49819>\u001b[0m in \u001b[0;36m<module>\u001b[0;34m\u001b[0m\n\u001b[0;32m----> 1\u001b[0;31m \u001b[0mA0\u001b[0m\u001b[0;34m[\u001b[0m\u001b[0;36m0\u001b[0m\u001b[0;34m]\u001b[0m\u001b[0;34m*\u001b[0m\u001b[0mA0\u001b[0m\u001b[0;34m[\u001b[0m\u001b[0;36m2\u001b[0m\u001b[0;34m]\u001b[0m\u001b[0;34m*\u001b[0m\u001b[0;36m2\u001b[0m\u001b[0;34m-\u001b[0m\u001b[0mA0\u001b[0m\u001b[0;34m[\u001b[0m\u001b[0;36m4\u001b[0m\u001b[0;34m]\u001b[0m\u001b[0;34m**\u001b[0m\u001b[0;36m2\u001b[0m\u001b[0;34m\u001b[0m\u001b[0;34m\u001b[0m\u001b[0m\n\u001b[0m",
      "\u001b[0;31mNameError\u001b[0m: name 'A0' is not defined"
     ]
    }
   ],
   "source": [
    "A0[0]*A0[2]*2-A0[4]**2"
   ]
  },
  {
   "cell_type": "code",
   "execution_count": null,
   "metadata": {},
   "outputs": [],
   "source": [
    "Id = sp.Matrix(np.diag(np.ones(6)))"
   ]
  },
  {
   "cell_type": "code",
   "execution_count": null,
   "metadata": {},
   "outputs": [],
   "source": [
    "l1 = sp.Symbol('\\lambda_1')\n",
    "l1"
   ]
  },
  {
   "cell_type": "code",
   "execution_count": null,
   "metadata": {},
   "outputs": [],
   "source": [
    "l2 = sp.Symbol('\\lambda_2')\n",
    "l2"
   ]
  },
  {
   "cell_type": "code",
   "execution_count": 353,
   "metadata": {},
   "outputs": [
    {
     "data": {
      "text/latex": [
       "$\\displaystyle \\lambda_3$"
      ],
      "text/plain": [
       "\\lambda_3"
      ]
     },
     "execution_count": 353,
     "metadata": {},
     "output_type": "execute_result"
    }
   ],
   "source": [
    "l3 = sp.Symbol('\\lambda_3')\n",
    "l3"
   ]
  },
  {
   "cell_type": "code",
   "execution_count": 404,
   "metadata": {},
   "outputs": [],
   "source": [
    "Z1 = sp.Matrix(Z1)\n",
    "Z2 = sp.Matrix(Z2)\n",
    "Z3 = sp.Matrix(Z3)"
   ]
  },
  {
   "cell_type": "code",
   "execution_count": 405,
   "metadata": {},
   "outputs": [
    {
     "ename": "MatrixError",
     "evalue": "Matrix is not diagonalizable",
     "output_type": "error",
     "traceback": [
      "\u001b[0;31m---------------------------------------------------------------------------\u001b[0m",
      "\u001b[0;31mMatrixError\u001b[0m                               Traceback (most recent call last)",
      "\u001b[0;32m<ipython-input-405-fd38b9eeb080>\u001b[0m in \u001b[0;36m<module>\u001b[0;34m\u001b[0m\n\u001b[0;32m----> 1\u001b[0;31m \u001b[0;34m(\u001b[0m\u001b[0mZ1\u001b[0m\u001b[0;34m+\u001b[0m\u001b[0mZ2\u001b[0m\u001b[0;34m+\u001b[0m\u001b[0mZ3\u001b[0m\u001b[0;34m)\u001b[0m\u001b[0;34m.\u001b[0m\u001b[0mdiagonalize\u001b[0m\u001b[0;34m(\u001b[0m\u001b[0;34m)\u001b[0m\u001b[0;34m\u001b[0m\u001b[0;34m\u001b[0m\u001b[0m\n\u001b[0m",
      "\u001b[0;32m~/.local/lib/python3.6/site-packages/sympy/matrices/matrices.py\u001b[0m in \u001b[0;36mdiagonalize\u001b[0;34m(self, reals_only, sort, normalize)\u001b[0m\n\u001b[1;32m   1146\u001b[0m \u001b[0;34m\u001b[0m\u001b[0m\n\u001b[1;32m   1147\u001b[0m         \u001b[0;32mif\u001b[0m \u001b[0;32mnot\u001b[0m \u001b[0mself\u001b[0m\u001b[0;34m.\u001b[0m\u001b[0mis_diagonalizable\u001b[0m\u001b[0;34m(\u001b[0m\u001b[0mreals_only\u001b[0m\u001b[0;34m=\u001b[0m\u001b[0mreals_only\u001b[0m\u001b[0;34m)\u001b[0m\u001b[0;34m:\u001b[0m\u001b[0;34m\u001b[0m\u001b[0;34m\u001b[0m\u001b[0m\n\u001b[0;32m-> 1148\u001b[0;31m             \u001b[0;32mraise\u001b[0m \u001b[0mMatrixError\u001b[0m\u001b[0;34m(\u001b[0m\u001b[0;34m\"Matrix is not diagonalizable\"\u001b[0m\u001b[0;34m)\u001b[0m\u001b[0;34m\u001b[0m\u001b[0;34m\u001b[0m\u001b[0m\n\u001b[0m\u001b[1;32m   1149\u001b[0m \u001b[0;34m\u001b[0m\u001b[0m\n\u001b[1;32m   1150\u001b[0m         \u001b[0meigenvecs\u001b[0m \u001b[0;34m=\u001b[0m \u001b[0mself\u001b[0m\u001b[0;34m.\u001b[0m\u001b[0meigenvects\u001b[0m\u001b[0;34m(\u001b[0m\u001b[0msimplify\u001b[0m\u001b[0;34m=\u001b[0m\u001b[0;32mTrue\u001b[0m\u001b[0;34m)\u001b[0m\u001b[0;34m\u001b[0m\u001b[0;34m\u001b[0m\u001b[0m\n",
      "\u001b[0;31mMatrixError\u001b[0m: Matrix is not diagonalizable"
     ]
    }
   ],
   "source": [
    "(Z1+Z2+Z3).diagonalize()"
   ]
  },
  {
   "cell_type": "code",
   "execution_count": 406,
   "metadata": {},
   "outputs": [
    {
     "data": {
      "text/latex": [
       "$\\displaystyle \\left[\\begin{matrix}0 & 2.0 \\lambda_1 & 2.0 \\lambda_2 & 0 & 0 & 0\\\\0 & 0 & 2.0 \\lambda_3 & 0 & 0 & 0\\\\0 & 0 & 0 & 0 & 0 & 0\\\\0 & 0 & 0 & - 1.0 \\lambda_3 & 0 & 0\\\\0 & 0 & 0 & 0 & - 1.0 \\lambda_2 & 0\\\\0 & 0 & 0 & 0 & 0 & - 1.0 \\lambda_1\\end{matrix}\\right]$"
      ],
      "text/plain": [
       "Matrix([\n",
       "[0, 2.0*\\lambda_1, 2.0*\\lambda_2,              0,              0,              0],\n",
       "[0,             0, 2.0*\\lambda_3,              0,              0,              0],\n",
       "[0,             0,             0,              0,              0,              0],\n",
       "[0,             0,             0, -1.0*\\lambda_3,              0,              0],\n",
       "[0,             0,             0,              0, -1.0*\\lambda_2,              0],\n",
       "[0,             0,             0,              0,              0, -1.0*\\lambda_1]])"
      ]
     },
     "execution_count": 406,
     "metadata": {},
     "output_type": "execute_result"
    }
   ],
   "source": [
    "l1*Z1+l2*Z2+l3*Z3"
   ]
  },
  {
   "cell_type": "code",
   "execution_count": 407,
   "metadata": {},
   "outputs": [],
   "source": [
    "Inv = (Id+l1*Z1+l2*Z2+l3*Z3).inv()"
   ]
  },
  {
   "cell_type": "code",
   "execution_count": 408,
   "metadata": {},
   "outputs": [
    {
     "data": {
      "text/latex": [
       "$\\displaystyle \\left[\\begin{matrix}0 & 2.0 & - 4.0 \\lambda_3 & 0 & 0 & 0\\\\0 & - 4.0 \\lambda_1 & 8.0 \\lambda_1 \\lambda_3 & 0 & 0 & 0\\\\0 & 8.0 \\lambda_1 \\lambda_3 - 4.0 \\lambda_2 & - 2.0 \\lambda_3 \\left(8.0 \\lambda_1 \\lambda_3 - 4.0 \\lambda_2\\right) & 0 & 0 & 0\\\\0 & 0 & 0 & 0 & 0 & 0\\\\0 & 0 & 0 & 0 & 0 & 0\\\\0 & 0 & 0 & 0 & 0 & - \\frac{1.0}{\\left(1.0 - 1.0 \\lambda_1\\right)^{2}}\\end{matrix}\\right]$"
      ],
      "text/plain": [
       "Matrix([\n",
       "[0,                                     2.0,                                           -4.0*\\lambda_3, 0, 0,                             0],\n",
       "[0,                          -4.0*\\lambda_1,                                  8.0*\\lambda_1*\\lambda_3, 0, 0,                             0],\n",
       "[0, 8.0*\\lambda_1*\\lambda_3 - 4.0*\\lambda_2, -2.0*\\lambda_3*(8.0*\\lambda_1*\\lambda_3 - 4.0*\\lambda_2), 0, 0,                             0],\n",
       "[0,                                       0,                                                        0, 0, 0,                             0],\n",
       "[0,                                       0,                                                        0, 0, 0,                             0],\n",
       "[0,                                       0,                                                        0, 0, 0, -1.0/(1.0 - 1.0*\\lambda_1)**2]])"
      ]
     },
     "execution_count": 408,
     "metadata": {},
     "output_type": "execute_result"
    }
   ],
   "source": [
    "Inv.T*Z1*Inv"
   ]
  },
  {
   "cell_type": "code",
   "execution_count": 409,
   "metadata": {},
   "outputs": [],
   "source": [
    "import mystic.solvers as my\n",
    "from mystic.coupler import and_, or_, not_\n",
    "from mystic.constraints import and_ as _and, or_ as _or, not_ as _not\n",
    "\n",
    "from mystic.monitors import VerboseMonitor\n",
    "\n",
    "from mystic.penalty import linear_equality, quadratic_equality\n",
    "from mystic.constraints import as_constraint"
   ]
  },
  {
   "cell_type": "code",
   "execution_count": 410,
   "metadata": {},
   "outputs": [],
   "source": [
    "Z1 = np.array(Z1, dtype = float)"
   ]
  },
  {
   "cell_type": "code",
   "execution_count": 411,
   "metadata": {},
   "outputs": [],
   "source": [
    "Z2 = np.array(Z2, dtype = float)"
   ]
  },
  {
   "cell_type": "code",
   "execution_count": 412,
   "metadata": {},
   "outputs": [],
   "source": [
    "Z3 = np.array(Z3, dtype = float)"
   ]
  },
  {
   "cell_type": "code",
   "execution_count": 413,
   "metadata": {},
   "outputs": [],
   "source": [
    "def function(l1, l2, l3):\n",
    "    R = np.diag(np.ones(6))+l1*Z1+l2*Z2+l3*Z3\n",
    "    print(l)\n",
    "    A0 = np.linalg.inv(R)@invMandel[1, :, :]@C\n",
    "    return abs(A0.T@Z1@A0)+abs(A0.T@Z2@A0)+abs(A0.T@Z3@A0)"
   ]
  },
  {
   "cell_type": "code",
   "execution_count": 414,
   "metadata": {},
   "outputs": [],
   "source": [
    "import scipy.optimize as optimize"
   ]
  },
  {
   "cell_type": "code",
   "execution_count": 415,
   "metadata": {},
   "outputs": [],
   "source": [
    "A0 = invMandel[1, :, :]@C"
   ]
  },
  {
   "cell_type": "code",
   "execution_count": 416,
   "metadata": {},
   "outputs": [],
   "source": [
    "def functionA(A0):\n",
    "    return [A0.T@Z1@A0, A0.T@Z2@A0, A0.T@Z3@A0]"
   ]
  },
  {
   "cell_type": "code",
   "execution_count": 417,
   "metadata": {},
   "outputs": [
    {
     "data": {
      "text/plain": [
       "8.816223846883769e-16"
      ]
     },
     "execution_count": 417,
     "metadata": {},
     "output_type": "execute_result"
    }
   ],
   "source": [
    "A0.T@Z3@A0"
   ]
  },
  {
   "cell_type": "code",
   "execution_count": 420,
   "metadata": {},
   "outputs": [
    {
     "data": {
      "text/plain": [
       "-2.2963402013242984e-16"
      ]
     },
     "execution_count": 420,
     "metadata": {},
     "output_type": "execute_result"
    }
   ],
   "source": [
    "A0[0]*A0[2]*2-A0[4]**2"
   ]
  },
  {
   "cell_type": "code",
   "execution_count": 421,
   "metadata": {},
   "outputs": [
    {
     "data": {
      "text/plain": [
       "[1.8070336198927226e-17, -2.2963402013242984e-16, 8.816223846883769e-16]"
      ]
     },
     "execution_count": 421,
     "metadata": {},
     "output_type": "execute_result"
    }
   ],
   "source": [
    "functionA(A0)"
   ]
  },
  {
   "cell_type": "code",
   "execution_count": 422,
   "metadata": {},
   "outputs": [],
   "source": [
    "def function(x):\n",
    "    l1, l2, l3 = x\n",
    "    R = np.diag(np.ones(6, dtype = float))+l1*Z1+l2*Z2+l3*Z3\n",
    "    \n",
    "    A0 = np.linalg.inv(R)@invMandel[1, :, :]@C\n",
    "    return [A0.T@Z1@A0, A0.T@Z2@A0, A0.T@Z3@A0]"
   ]
  },
  {
   "cell_type": "code",
   "execution_count": 439,
   "metadata": {},
   "outputs": [
    {
     "name": "stderr",
     "output_type": "stream",
     "text": [
      "/home/r/rbond/omard/.local/lib/python3.6/site-packages/ipykernel_launcher.py:1: OptimizeWarning: Unknown solver options: maxfevint\n",
      "  \"\"\"Entry point for launching an IPython kernel.\n"
     ]
    },
    {
     "data": {
      "text/plain": [
       "    fjac: array([[-2.05405915e-03,  9.99210839e-01, -3.96671127e-02],\n",
       "       [-4.56717136e-02, -3.97195424e-02, -9.98166545e-01],\n",
       "       [-9.98954391e-01, -2.38628111e-04,  4.57172576e-02]])\n",
       "     fun: array([-1.10367705e-16, -2.29634020e-16,  2.21400860e-16])\n",
       " message: 'The iteration is not making good progress, as measured by the \\n  improvement from the last ten iterations.'\n",
       "    nfev: 97\n",
       "     qtf: array([-2.38008433e-16, -2.06833291e-16,  1.20428941e-16])\n",
       "       r: array([-4.20567478e+01, -2.45434533e+01, -7.38340887e+02,  2.45005029e+00,\n",
       "       -1.82117548e+02,  2.07703531e-01])\n",
       "  status: 5\n",
       " success: False\n",
       "       x: array([1.27139663e-10, 7.51945355e-16, 3.75161535e-15])"
      ]
     },
     "execution_count": 439,
     "metadata": {},
     "output_type": "execute_result"
    }
   ],
   "source": [
    "\n",
    "optimize.root(function, np.array([0.1, 0.2, 0.3]), method = 'hybr', options = {'maxfevint': 1000, 'xtol': 1e-12})"
   ]
  },
  {
   "cell_type": "code",
   "execution_count": 440,
   "metadata": {},
   "outputs": [
    {
     "data": {
      "text/plain": [
       "[-1.1036770481296569e-16, -2.2963402013242984e-16, 2.2140085988511804e-16]"
      ]
     },
     "execution_count": 440,
     "metadata": {},
     "output_type": "execute_result"
    }
   ],
   "source": [
    "function([1.27139663e-10, 7.51945355e-16, 3.75161535e-15])"
   ]
  },
  {
   "cell_type": "code",
   "execution_count": 425,
   "metadata": {},
   "outputs": [
    {
     "ename": "ValueError",
     "evalue": "not enough values to unpack (expected 3, got 1)",
     "output_type": "error",
     "traceback": [
      "\u001b[0;31m---------------------------------------------------------------------------\u001b[0m",
      "\u001b[0;31mValueError\u001b[0m                                Traceback (most recent call last)",
      "\u001b[0;32m<ipython-input-425-ffb65eede414>\u001b[0m in \u001b[0;36m<module>\u001b[0;34m\u001b[0m\n\u001b[0;32m----> 1\u001b[0;31m \u001b[0moptimize\u001b[0m\u001b[0;34m.\u001b[0m\u001b[0mminimize\u001b[0m\u001b[0;34m(\u001b[0m\u001b[0mfunction\u001b[0m\u001b[0;34m,\u001b[0m \u001b[0;36m.1\u001b[0m\u001b[0;34m,\u001b[0m \u001b[0mbounds\u001b[0m \u001b[0;34m=\u001b[0m \u001b[0;34m[\u001b[0m\u001b[0;34m[\u001b[0m\u001b[0;36m0\u001b[0m\u001b[0;34m,\u001b[0m \u001b[0;36m1\u001b[0m\u001b[0;34m]\u001b[0m\u001b[0;34m]\u001b[0m\u001b[0;34m,\u001b[0m \u001b[0mmethod\u001b[0m \u001b[0;34m=\u001b[0m \u001b[0;34m'SLSQP'\u001b[0m\u001b[0;34m,\u001b[0m \u001b[0moptions\u001b[0m \u001b[0;34m=\u001b[0m \u001b[0;34m{\u001b[0m\u001b[0;34m'ftol'\u001b[0m\u001b[0;34m:\u001b[0m \u001b[0;36m1e-11\u001b[0m\u001b[0;34m}\u001b[0m\u001b[0;34m)\u001b[0m\u001b[0;34m\u001b[0m\u001b[0;34m\u001b[0m\u001b[0m\n\u001b[0m",
      "\u001b[0;32m~/.local/lib/python3.6/site-packages/scipy/optimize/_minimize.py\u001b[0m in \u001b[0;36mminimize\u001b[0;34m(fun, x0, args, method, jac, hess, hessp, bounds, constraints, tol, callback, options)\u001b[0m\n\u001b[1;32m    606\u001b[0m     \u001b[0;32melif\u001b[0m \u001b[0mmeth\u001b[0m \u001b[0;34m==\u001b[0m \u001b[0;34m'slsqp'\u001b[0m\u001b[0;34m:\u001b[0m\u001b[0;34m\u001b[0m\u001b[0;34m\u001b[0m\u001b[0m\n\u001b[1;32m    607\u001b[0m         return _minimize_slsqp(fun, x0, args, jac, bounds,\n\u001b[0;32m--> 608\u001b[0;31m                                constraints, callback=callback, **options)\n\u001b[0m\u001b[1;32m    609\u001b[0m     \u001b[0;32melif\u001b[0m \u001b[0mmeth\u001b[0m \u001b[0;34m==\u001b[0m \u001b[0;34m'trust-constr'\u001b[0m\u001b[0;34m:\u001b[0m\u001b[0;34m\u001b[0m\u001b[0;34m\u001b[0m\u001b[0m\n\u001b[1;32m    610\u001b[0m         return _minimize_trustregion_constr(fun, x0, args, jac, hess, hessp,\n",
      "\u001b[0;32m~/.local/lib/python3.6/site-packages/scipy/optimize/slsqp.py\u001b[0m in \u001b[0;36m_minimize_slsqp\u001b[0;34m(func, x0, args, jac, bounds, constraints, maxiter, ftol, iprint, disp, eps, callback, **unknown_options)\u001b[0m\n\u001b[1;32m    397\u001b[0m \u001b[0;34m\u001b[0m\u001b[0m\n\u001b[1;32m    398\u001b[0m             \u001b[0;31m# Compute objective function\u001b[0m\u001b[0;34m\u001b[0m\u001b[0;34m\u001b[0m\u001b[0;34m\u001b[0m\u001b[0m\n\u001b[0;32m--> 399\u001b[0;31m             \u001b[0mfx\u001b[0m \u001b[0;34m=\u001b[0m \u001b[0mfunc\u001b[0m\u001b[0;34m(\u001b[0m\u001b[0mx\u001b[0m\u001b[0;34m)\u001b[0m\u001b[0;34m\u001b[0m\u001b[0;34m\u001b[0m\u001b[0m\n\u001b[0m\u001b[1;32m    400\u001b[0m             \u001b[0;32mtry\u001b[0m\u001b[0;34m:\u001b[0m\u001b[0;34m\u001b[0m\u001b[0;34m\u001b[0m\u001b[0m\n\u001b[1;32m    401\u001b[0m                 \u001b[0mfx\u001b[0m \u001b[0;34m=\u001b[0m \u001b[0mfloat\u001b[0m\u001b[0;34m(\u001b[0m\u001b[0mnp\u001b[0m\u001b[0;34m.\u001b[0m\u001b[0masarray\u001b[0m\u001b[0;34m(\u001b[0m\u001b[0mfx\u001b[0m\u001b[0;34m)\u001b[0m\u001b[0;34m)\u001b[0m\u001b[0;34m\u001b[0m\u001b[0;34m\u001b[0m\u001b[0m\n",
      "\u001b[0;32m~/.local/lib/python3.6/site-packages/scipy/optimize/optimize.py\u001b[0m in \u001b[0;36mfunction_wrapper\u001b[0;34m(*wrapper_args)\u001b[0m\n\u001b[1;32m    325\u001b[0m     \u001b[0;32mdef\u001b[0m \u001b[0mfunction_wrapper\u001b[0m\u001b[0;34m(\u001b[0m\u001b[0;34m*\u001b[0m\u001b[0mwrapper_args\u001b[0m\u001b[0;34m)\u001b[0m\u001b[0;34m:\u001b[0m\u001b[0;34m\u001b[0m\u001b[0;34m\u001b[0m\u001b[0m\n\u001b[1;32m    326\u001b[0m         \u001b[0mncalls\u001b[0m\u001b[0;34m[\u001b[0m\u001b[0;36m0\u001b[0m\u001b[0;34m]\u001b[0m \u001b[0;34m+=\u001b[0m \u001b[0;36m1\u001b[0m\u001b[0;34m\u001b[0m\u001b[0;34m\u001b[0m\u001b[0m\n\u001b[0;32m--> 327\u001b[0;31m         \u001b[0;32mreturn\u001b[0m \u001b[0mfunction\u001b[0m\u001b[0;34m(\u001b[0m\u001b[0;34m*\u001b[0m\u001b[0;34m(\u001b[0m\u001b[0mwrapper_args\u001b[0m \u001b[0;34m+\u001b[0m \u001b[0margs\u001b[0m\u001b[0;34m)\u001b[0m\u001b[0;34m)\u001b[0m\u001b[0;34m\u001b[0m\u001b[0;34m\u001b[0m\u001b[0m\n\u001b[0m\u001b[1;32m    328\u001b[0m \u001b[0;34m\u001b[0m\u001b[0m\n\u001b[1;32m    329\u001b[0m     \u001b[0;32mreturn\u001b[0m \u001b[0mncalls\u001b[0m\u001b[0;34m,\u001b[0m \u001b[0mfunction_wrapper\u001b[0m\u001b[0;34m\u001b[0m\u001b[0;34m\u001b[0m\u001b[0m\n",
      "\u001b[0;32m<ipython-input-422-bc5f86b3847f>\u001b[0m in \u001b[0;36mfunction\u001b[0;34m(x)\u001b[0m\n\u001b[1;32m      1\u001b[0m \u001b[0;32mdef\u001b[0m \u001b[0mfunction\u001b[0m\u001b[0;34m(\u001b[0m\u001b[0mx\u001b[0m\u001b[0;34m)\u001b[0m\u001b[0;34m:\u001b[0m\u001b[0;34m\u001b[0m\u001b[0;34m\u001b[0m\u001b[0m\n\u001b[0;32m----> 2\u001b[0;31m     \u001b[0ml1\u001b[0m\u001b[0;34m,\u001b[0m \u001b[0ml2\u001b[0m\u001b[0;34m,\u001b[0m \u001b[0ml3\u001b[0m \u001b[0;34m=\u001b[0m \u001b[0mx\u001b[0m\u001b[0;34m\u001b[0m\u001b[0;34m\u001b[0m\u001b[0m\n\u001b[0m\u001b[1;32m      3\u001b[0m     \u001b[0mR\u001b[0m \u001b[0;34m=\u001b[0m \u001b[0mnp\u001b[0m\u001b[0;34m.\u001b[0m\u001b[0mdiag\u001b[0m\u001b[0;34m(\u001b[0m\u001b[0mnp\u001b[0m\u001b[0;34m.\u001b[0m\u001b[0mones\u001b[0m\u001b[0;34m(\u001b[0m\u001b[0;36m6\u001b[0m\u001b[0;34m,\u001b[0m \u001b[0mdtype\u001b[0m \u001b[0;34m=\u001b[0m \u001b[0mfloat\u001b[0m\u001b[0;34m)\u001b[0m\u001b[0;34m)\u001b[0m\u001b[0;34m+\u001b[0m\u001b[0ml1\u001b[0m\u001b[0;34m*\u001b[0m\u001b[0mZ1\u001b[0m\u001b[0;34m+\u001b[0m\u001b[0ml2\u001b[0m\u001b[0;34m*\u001b[0m\u001b[0mZ2\u001b[0m\u001b[0;34m+\u001b[0m\u001b[0ml3\u001b[0m\u001b[0;34m*\u001b[0m\u001b[0mZ3\u001b[0m\u001b[0;34m\u001b[0m\u001b[0;34m\u001b[0m\u001b[0m\n\u001b[1;32m      4\u001b[0m     \u001b[0mA0\u001b[0m \u001b[0;34m=\u001b[0m \u001b[0mnp\u001b[0m\u001b[0;34m.\u001b[0m\u001b[0mlinalg\u001b[0m\u001b[0;34m.\u001b[0m\u001b[0minv\u001b[0m\u001b[0;34m(\u001b[0m\u001b[0mR\u001b[0m\u001b[0;34m)\u001b[0m\u001b[0;34m@\u001b[0m\u001b[0minvMandel\u001b[0m\u001b[0;34m[\u001b[0m\u001b[0;36m1\u001b[0m\u001b[0;34m,\u001b[0m \u001b[0;34m:\u001b[0m\u001b[0;34m,\u001b[0m \u001b[0;34m:\u001b[0m\u001b[0;34m]\u001b[0m\u001b[0;34m@\u001b[0m\u001b[0mC\u001b[0m\u001b[0;34m\u001b[0m\u001b[0;34m\u001b[0m\u001b[0m\n\u001b[1;32m      5\u001b[0m     \u001b[0;32mreturn\u001b[0m \u001b[0;34m[\u001b[0m\u001b[0mA0\u001b[0m\u001b[0;34m.\u001b[0m\u001b[0mT\u001b[0m\u001b[0;34m@\u001b[0m\u001b[0mZ1\u001b[0m\u001b[0;34m@\u001b[0m\u001b[0mA0\u001b[0m\u001b[0;34m,\u001b[0m \u001b[0mA0\u001b[0m\u001b[0;34m.\u001b[0m\u001b[0mT\u001b[0m\u001b[0;34m@\u001b[0m\u001b[0mZ2\u001b[0m\u001b[0;34m@\u001b[0m\u001b[0mA0\u001b[0m\u001b[0;34m,\u001b[0m \u001b[0mA0\u001b[0m\u001b[0;34m.\u001b[0m\u001b[0mT\u001b[0m\u001b[0;34m@\u001b[0m\u001b[0mZ3\u001b[0m\u001b[0;34m@\u001b[0m\u001b[0mA0\u001b[0m\u001b[0;34m]\u001b[0m\u001b[0;34m\u001b[0m\u001b[0;34m\u001b[0m\u001b[0m\n",
      "\u001b[0;31mValueError\u001b[0m: not enough values to unpack (expected 3, got 1)"
     ]
    }
   ],
   "source": [
    "optimize.minimize(function, .1, bounds = [[0, 1]], method = 'SLSQP', options = {'ftol': 1e-11})"
   ]
  },
  {
   "cell_type": "code",
   "execution_count": null,
   "metadata": {},
   "outputs": [],
   "source": []
  },
  {
   "cell_type": "code",
   "execution_count": null,
   "metadata": {},
   "outputs": [],
   "source": []
  },
  {
   "cell_type": "code",
   "execution_count": null,
   "metadata": {},
   "outputs": [],
   "source": []
  },
  {
   "cell_type": "code",
   "execution_count": null,
   "metadata": {},
   "outputs": [],
   "source": []
  },
  {
   "cell_type": "code",
   "execution_count": 13,
   "metadata": {},
   "outputs": [],
   "source": [
    "Tlabel = 'T'\n",
    "Slabel = 'S'\n",
    "Plabel = 'P'"
   ]
  },
  {
   "cell_type": "code",
   "execution_count": 14,
   "metadata": {},
   "outputs": [],
   "source": [
    "cases = [Tlabel, Plabel, Slabel]"
   ]
  },
  {
   "cell_type": "code",
   "execution_count": 15,
   "metadata": {},
   "outputs": [],
   "source": [
    "colors = {}\n",
    "colors[Tlabel] = 'green'\n",
    "colors[Plabel] = 'blue'\n",
    "colors[Slabel] = 'orange'"
   ]
  },
  {
   "cell_type": "code",
   "execution_count": 16,
   "metadata": {},
   "outputs": [],
   "source": [
    "p = pathlib.Path('../qelensingcomb/output/')\n",
    "def getdir(l1, l2 = None, l3 = None):\n",
    "    if (l2 is not None) and (l3 is not None):\n",
    "        return f'h{l1}s{l2}b{l3}/tsz/'\n",
    "    else:\n",
    "        l = l1\n",
    "        return f'h{l}s{l}b{l}/tsz/'\n",
    "\n",
    "getT = lambda l1, l2, l3: np.load(p/getdir(l1, l2, l3)/'T_tsz_148.npy')#[index, index]\n",
    "getP = lambda l1, l2, l3: np.load(p/getdir(l1, l2, l3)/'P_tsz_148.npy')#[index, index]\n",
    "getS = lambda l1, l2, l3: np.load(p/getdir(l1, l2, l3)/'S_tsz_148.npy')#[index, index]\n",
    "getells = lambda l1, l2, l3: np.load(p/getdir(l1, l2, l3)/'ells_tsz_148.npy')\n",
    "getkk = lambda l1, l2, l3: np.load(p/getdir(l1, l2, l3)/'kk_tsz_148.npy')"
   ]
  },
  {
   "cell_type": "code",
   "execution_count": 17,
   "metadata": {},
   "outputs": [],
   "source": [
    "l1, l2, l3 = 2500, 3000, 3000"
   ]
  },
  {
   "cell_type": "code",
   "execution_count": 18,
   "metadata": {},
   "outputs": [],
   "source": [
    "ells = getells(l1, l2, l3)"
   ]
  },
  {
   "cell_type": "code",
   "execution_count": 19,
   "metadata": {},
   "outputs": [],
   "source": [
    "sel = (ells>30) & (ells<1200)"
   ]
  },
  {
   "cell_type": "code",
   "execution_count": 20,
   "metadata": {},
   "outputs": [],
   "source": [
    "ells = ells[sel]"
   ]
  },
  {
   "cell_type": "code",
   "execution_count": 21,
   "metadata": {},
   "outputs": [],
   "source": [
    "clkk = getkk(l1, l2, l3)[sel]"
   ]
  },
  {
   "cell_type": "code",
   "execution_count": 22,
   "metadata": {},
   "outputs": [],
   "source": [
    "theta = np.load(p/getdir(l1, l2, l3)/'theta_tsz_148.npy')[..., sel]"
   ]
  },
  {
   "cell_type": "code",
   "execution_count": 23,
   "metadata": {},
   "outputs": [],
   "source": [
    "theta = theta/clkk**2.\n",
    "theta = np.nan_to_num(theta)"
   ]
  },
  {
   "cell_type": "code",
   "execution_count": 24,
   "metadata": {},
   "outputs": [],
   "source": [
    "N = np.load(p/getdir(l1, l2, l3)/'N_tsz_148.npy')[..., sel]"
   ]
  },
  {
   "cell_type": "code",
   "execution_count": 25,
   "metadata": {},
   "outputs": [],
   "source": [
    "FB = 0."
   ]
  },
  {
   "cell_type": "code",
   "execution_count": 26,
   "metadata": {},
   "outputs": [],
   "source": [
    "indices_pairs = [(0, 0), (1, 1), (2, 2), (1, 2), (2, 0), (0, 1)]"
   ]
  },
  {
   "cell_type": "code",
   "execution_count": 27,
   "metadata": {},
   "outputs": [],
   "source": [
    "MandelMatrix = np.ones((len(ells), 6, 6))"
   ]
  },
  {
   "cell_type": "code",
   "execution_count": 28,
   "metadata": {},
   "outputs": [
    {
     "data": {
      "text/plain": [
       "(3, 3, 3, 3, 8)"
      ]
     },
     "execution_count": 28,
     "metadata": {},
     "output_type": "execute_result"
    }
   ],
   "source": [
    "theta.shape"
   ]
  },
  {
   "cell_type": "code",
   "execution_count": 29,
   "metadata": {},
   "outputs": [],
   "source": [
    "for A, pairA in enumerate(indices_pairs):\n",
    "    for B, pairB in enumerate(indices_pairs):\n",
    "        i, j = pairA\n",
    "        m, n = pairB\n",
    "        factorA = 1. if i == j else np.sqrt(2)\n",
    "        factorB = 1. if m == n else np.sqrt(2)\n",
    "        \n",
    "        MandelMatrix[:, A, B] = factorA*factorB*theta[i, j, m, n]"
   ]
  },
  {
   "cell_type": "code",
   "execution_count": 30,
   "metadata": {},
   "outputs": [],
   "source": [
    "B = getT(l1, l2, l3)+getP(l1, l2, l3)+getS(l1, l2, l3)\n",
    "B = B[..., sel]/clkk"
   ]
  },
  {
   "cell_type": "code",
   "execution_count": 31,
   "metadata": {},
   "outputs": [],
   "source": [
    "a_random = np.random.randn(3)"
   ]
  },
  {
   "cell_type": "code",
   "execution_count": 32,
   "metadata": {},
   "outputs": [],
   "source": [
    "def getAmatrix(a):\n",
    "    Avec = np.zeros(6)\n",
    "    Avec[0] = a[0]**2\n",
    "    Avec[1] = a[1]**2\n",
    "    Avec[2] = a[2]**2\n",
    "    Avec[3] = a[1]*a[2]*np.sqrt(2)\n",
    "    Avec[4] = a[0]*a[2]*np.sqrt(2)\n",
    "    Avec[5] = a[0]*a[1]*np.sqrt(2)\n",
    "    return Avec"
   ]
  },
  {
   "cell_type": "code",
   "execution_count": 33,
   "metadata": {},
   "outputs": [],
   "source": [
    "Avec_random = getAmatrix(a_random)"
   ]
  },
  {
   "cell_type": "code",
   "execution_count": 34,
   "metadata": {},
   "outputs": [
    {
     "data": {
      "text/plain": [
       "array([[-0.01245095, -0.00884403, -0.01000514],\n",
       "       [-0.00884403, -0.00626215, -0.00771386],\n",
       "       [-0.01000514, -0.00771386, -0.00927287]])"
      ]
     },
     "execution_count": 34,
     "metadata": {},
     "output_type": "execute_result"
    }
   ],
   "source": [
    "B[..., 0]"
   ]
  },
  {
   "cell_type": "code",
   "execution_count": 35,
   "metadata": {},
   "outputs": [
    {
     "data": {
      "text/plain": [
       "-0.07339220381642689"
      ]
     },
     "execution_count": 35,
     "metadata": {},
     "output_type": "execute_result"
    }
   ],
   "source": [
    "np.einsum('i, ij, j -> ', a_random, B[..., 0], a_random)"
   ]
  },
  {
   "cell_type": "code",
   "execution_count": 36,
   "metadata": {},
   "outputs": [],
   "source": [
    "Avec = np.zeros((len(ells), 6))\n",
    "Avec[:, 0] = B[0, 0]\n",
    "Avec[:, 1] = B[1, 1]\n",
    "Avec[:, 2] = B[2, 2]\n",
    "Avec[:, 3] = B[1, 2]*np.sqrt(2)\n",
    "Avec[:, 4] = B[0, 2]*np.sqrt(2)\n",
    "Avec[:, 5] = B[0, 1]*np.sqrt(2)"
   ]
  },
  {
   "cell_type": "code",
   "execution_count": 37,
   "metadata": {},
   "outputs": [],
   "source": [
    "Bvec = abs(Avec)\n",
    "Bvecnonabs = Avec"
   ]
  },
  {
   "cell_type": "code",
   "execution_count": 38,
   "metadata": {},
   "outputs": [
    {
     "data": {
      "text/plain": [
       "array([[ True,  True,  True,  True,  True,  True],\n",
       "       [ True,  True,  True,  True,  True,  True],\n",
       "       [ True,  True,  True,  True,  True,  True],\n",
       "       [ True,  True,  True,  True,  True,  True],\n",
       "       [ True,  True,  True,  True,  True,  True],\n",
       "       [ True,  True,  True,  True,  True,  True]])"
      ]
     },
     "execution_count": 38,
     "metadata": {},
     "output_type": "execute_result"
    }
   ],
   "source": [
    "kk = 1\n",
    "MandelMatrix[kk, ...] == MandelMatrix[kk, ...].T"
   ]
  },
  {
   "cell_type": "code",
   "execution_count": 39,
   "metadata": {},
   "outputs": [],
   "source": [
    "def is_pos_def(x):\n",
    "    return np.all(np.linalg.eigvals(x) > 0)\n",
    "\n",
    "\n"
   ]
  },
  {
   "cell_type": "code",
   "execution_count": 40,
   "metadata": {},
   "outputs": [
    {
     "data": {
      "text/plain": [
       "True"
      ]
     },
     "execution_count": 40,
     "metadata": {},
     "output_type": "execute_result"
    }
   ],
   "source": [
    "is_pos_def(MandelMatrix[kk, ...] )"
   ]
  },
  {
   "cell_type": "code",
   "execution_count": 41,
   "metadata": {},
   "outputs": [
    {
     "data": {
      "text/plain": [
       "array([[1., 0., 0., 0., 0., 0.],\n",
       "       [0., 0., 0., 0., 0., 0.],\n",
       "       [0., 0., 0., 0., 0., 0.],\n",
       "       [0., 0., 0., 0., 0., 0.],\n",
       "       [0., 0., 0., 0., 0., 0.],\n",
       "       [0., 0., 0., 0., 0., 0.]])"
      ]
     },
     "execution_count": 41,
     "metadata": {},
     "output_type": "execute_result"
    }
   ],
   "source": [
    "P1 = np.zeros((6, 6))\n",
    "P1[0, 0] = 1\n",
    "P1"
   ]
  },
  {
   "cell_type": "code",
   "execution_count": 42,
   "metadata": {},
   "outputs": [
    {
     "data": {
      "text/plain": [
       "array([[0., 1., 0., 0., 0., 0.],\n",
       "       [0., 0., 0., 0., 0., 0.],\n",
       "       [0., 0., 0., 0., 0., 0.],\n",
       "       [0., 0., 0., 0., 0., 0.],\n",
       "       [0., 0., 0., 0., 0., 0.],\n",
       "       [0., 0., 0., 0., 0., 0.]])"
      ]
     },
     "execution_count": 42,
     "metadata": {},
     "output_type": "execute_result"
    }
   ],
   "source": [
    "P2 = np.zeros((6, 6))\n",
    "P2[0, 1] = 1\n",
    "P2"
   ]
  },
  {
   "cell_type": "code",
   "execution_count": 43,
   "metadata": {},
   "outputs": [
    {
     "data": {
      "text/plain": [
       "array([[0., 0., 0., 0., 0., 0.],\n",
       "       [0., 0., 0., 0., 0., 0.],\n",
       "       [0., 0., 0., 0., 0., 0.],\n",
       "       [0., 0., 0., 0., 0., 0.],\n",
       "       [0., 0., 0., 0., 0., 0.],\n",
       "       [0., 0., 0., 0., 0., 1.]])"
      ]
     },
     "execution_count": 43,
     "metadata": {},
     "output_type": "execute_result"
    }
   ],
   "source": [
    "P6 = np.zeros((6, 6))\n",
    "P6[-1, -1] = 1\n",
    "P6"
   ]
  },
  {
   "cell_type": "code",
   "execution_count": 44,
   "metadata": {},
   "outputs": [],
   "source": [
    "Aprova = np.array([1, 2, 3, 4, 5, 6])"
   ]
  },
  {
   "cell_type": "code",
   "execution_count": 45,
   "metadata": {},
   "outputs": [],
   "source": [
    "Z = 2*P1.T@P2-P6\n",
    "Zother = 2*P2.T@P1-P6"
   ]
  },
  {
   "cell_type": "code",
   "execution_count": 46,
   "metadata": {},
   "outputs": [
    {
     "data": {
      "text/plain": [
       "False"
      ]
     },
     "execution_count": 46,
     "metadata": {},
     "output_type": "execute_result"
    }
   ],
   "source": [
    "is_pos_def(Zother)"
   ]
  },
  {
   "cell_type": "code",
   "execution_count": 47,
   "metadata": {},
   "outputs": [
    {
     "data": {
      "text/plain": [
       "array([[ 0.,  2.,  0.,  0.,  0.,  0.],\n",
       "       [ 0.,  0.,  0.,  0.,  0.,  0.],\n",
       "       [ 0.,  0.,  0.,  0.,  0.,  0.],\n",
       "       [ 0.,  0.,  0.,  0.,  0.,  0.],\n",
       "       [ 0.,  0.,  0.,  0.,  0.,  0.],\n",
       "       [ 0.,  0.,  0.,  0.,  0., -1.]])"
      ]
     },
     "execution_count": 47,
     "metadata": {},
     "output_type": "execute_result"
    }
   ],
   "source": [
    "Z"
   ]
  },
  {
   "cell_type": "code",
   "execution_count": 48,
   "metadata": {},
   "outputs": [],
   "source": [
    "v = np.linalg.eig(Z)"
   ]
  },
  {
   "cell_type": "code",
   "execution_count": 49,
   "metadata": {},
   "outputs": [
    {
     "data": {
      "text/plain": [
       "2"
      ]
     },
     "execution_count": 49,
     "metadata": {},
     "output_type": "execute_result"
    }
   ],
   "source": [
    "np.linalg.matrix_rank(Z)"
   ]
  },
  {
   "cell_type": "code",
   "execution_count": 50,
   "metadata": {},
   "outputs": [],
   "source": [
    "eigenvalues = v[0]\n",
    "eigenvectors = v[1]"
   ]
  },
  {
   "cell_type": "code",
   "execution_count": 51,
   "metadata": {},
   "outputs": [
    {
     "data": {
      "text/plain": [
       "array([ 0.,  0.,  0.,  0.,  0., -1.])"
      ]
     },
     "execution_count": 51,
     "metadata": {},
     "output_type": "execute_result"
    }
   ],
   "source": [
    "eigenvalues"
   ]
  },
  {
   "cell_type": "code",
   "execution_count": 52,
   "metadata": {},
   "outputs": [
    {
     "data": {
      "text/plain": [
       "array([[ 1.00000000e+000, -1.00000000e+000,  0.00000000e+000,\n",
       "         0.00000000e+000,  0.00000000e+000,  0.00000000e+000],\n",
       "       [ 0.00000000e+000,  3.00625254e-292,  0.00000000e+000,\n",
       "         0.00000000e+000,  0.00000000e+000,  0.00000000e+000],\n",
       "       [ 0.00000000e+000,  0.00000000e+000,  1.00000000e+000,\n",
       "         0.00000000e+000,  0.00000000e+000,  0.00000000e+000],\n",
       "       [ 0.00000000e+000,  0.00000000e+000,  0.00000000e+000,\n",
       "         1.00000000e+000,  0.00000000e+000,  0.00000000e+000],\n",
       "       [ 0.00000000e+000,  0.00000000e+000,  0.00000000e+000,\n",
       "         0.00000000e+000,  1.00000000e+000,  0.00000000e+000],\n",
       "       [ 0.00000000e+000,  0.00000000e+000,  0.00000000e+000,\n",
       "         0.00000000e+000,  0.00000000e+000,  1.00000000e+000]])"
      ]
     },
     "execution_count": 52,
     "metadata": {},
     "output_type": "execute_result"
    }
   ],
   "source": [
    "eigenvectors"
   ]
  },
  {
   "cell_type": "code",
   "execution_count": null,
   "metadata": {},
   "outputs": [],
   "source": []
  },
  {
   "cell_type": "code",
   "execution_count": 54,
   "metadata": {},
   "outputs": [
    {
     "data": {
      "text/plain": [
       "array([[1., 0., 0., 0., 0., 0.],\n",
       "       [0., 1., 0., 0., 0., 0.],\n",
       "       [0., 0., 1., 0., 0., 0.],\n",
       "       [0., 0., 0., 0., 0., 0.],\n",
       "       [0., 0., 0., 0., 0., 0.],\n",
       "       [0., 0., 0., 0., 0., 0.]])"
      ]
     },
     "execution_count": 54,
     "metadata": {},
     "output_type": "execute_result"
    }
   ],
   "source": [
    "P = np.zeros((6, 6))\n",
    "P[0, 0] = 1\n",
    "P[1, 1] = 1\n",
    "P[2, 2] = 1\n",
    "P"
   ]
  },
  {
   "cell_type": "code",
   "execution_count": 55,
   "metadata": {},
   "outputs": [
    {
     "data": {
      "text/plain": [
       "array([[0., 0., 0., 0., 0., 0.],\n",
       "       [0., 0., 0., 0., 0., 0.],\n",
       "       [0., 0., 0., 0., 0., 0.],\n",
       "       [0., 0., 0., 1., 0., 0.],\n",
       "       [0., 0., 0., 0., 1., 0.],\n",
       "       [0., 0., 0., 0., 0., 1.]])"
      ]
     },
     "execution_count": 55,
     "metadata": {},
     "output_type": "execute_result"
    }
   ],
   "source": [
    "Q = np.zeros((6, 6))\n",
    "Q[3, 3] = 1\n",
    "Q[4, 4] = 1\n",
    "Q[5, 5] = 1\n",
    "Q"
   ]
  },
  {
   "cell_type": "code",
   "execution_count": 56,
   "metadata": {},
   "outputs": [],
   "source": [
    "E = np.ones(6)"
   ]
  },
  {
   "cell_type": "code",
   "execution_count": 57,
   "metadata": {},
   "outputs": [
    {
     "data": {
      "text/plain": [
       "array([1.        , 1.        , 1.        , 1.41421356, 1.41421356,\n",
       "       1.41421356])"
      ]
     },
     "execution_count": 57,
     "metadata": {},
     "output_type": "execute_result"
    }
   ],
   "source": [
    "C = np.einsum('i, ij -> j', E.T, P)+np.sqrt(2)*np.einsum('i, ij -> j', E.T, Q)#E.T@P+np.sqrt(2)*E.T@Q\n",
    "C"
   ]
  },
  {
   "cell_type": "code",
   "execution_count": 58,
   "metadata": {},
   "outputs": [],
   "source": [
    "invMandel = np.zeros_like(MandelMatrix)"
   ]
  },
  {
   "cell_type": "code",
   "execution_count": 59,
   "metadata": {},
   "outputs": [],
   "source": [
    "invMandel = np.linalg.inv(MandelMatrix)"
   ]
  },
  {
   "cell_type": "code",
   "execution_count": 60,
   "metadata": {},
   "outputs": [],
   "source": [
    "def integrate_discrete(y, ells):\n",
    "    #Nmodes = lEdges[1:]**2. - lEdges[:-1]**2\n",
    "    factor = 4*np.pi\n",
    "    return np.trapz(y*ells, ells)*(2*np.pi)/(2*np.pi)**2*factor"
   ]
  },
  {
   "cell_type": "code",
   "execution_count": 61,
   "metadata": {},
   "outputs": [],
   "source": [
    "number = np.einsum('ij, ...jk, k, i', (P+np.sqrt(2)*Q), invMandel, C, E)\n",
    "Norm = integrate_discrete(number, ells)"
   ]
  },
  {
   "cell_type": "code",
   "execution_count": 62,
   "metadata": {},
   "outputs": [],
   "source": [
    "O = np.einsum('ij, ...jk, ...k, i', (P+np.sqrt(2)*Q), invMandel, Bvec, E)\n",
    "O = integrate_discrete(O, ells)"
   ]
  },
  {
   "cell_type": "code",
   "execution_count": 63,
   "metadata": {},
   "outputs": [],
   "source": [
    "Ofactor = np.einsum('...ij, j, ...i', invMandel, C, Bvec)\n",
    "Ofactor = integrate_discrete(Ofactor, ells)"
   ]
  },
  {
   "cell_type": "code",
   "execution_count": 64,
   "metadata": {},
   "outputs": [],
   "source": [
    "Ofactornonabs = np.einsum('...ij, j, ...i', invMandel, C, Bvecnonabs)\n",
    "Ofactornonabs = integrate_discrete(Ofactornonabs, ells)"
   ]
  },
  {
   "cell_type": "code",
   "execution_count": 65,
   "metadata": {},
   "outputs": [],
   "source": [
    "Bfactor = np.einsum('...ij, ...j, ...i -> ...', invMandel, Bvec, Bvec)\n",
    "Bfactor = integrate_discrete(Bfactor, ells)"
   ]
  },
  {
   "cell_type": "code",
   "execution_count": 66,
   "metadata": {},
   "outputs": [
    {
     "data": {
      "text/plain": [
       "1.0"
      ]
     },
     "execution_count": 66,
     "metadata": {},
     "output_type": "execute_result"
    }
   ],
   "source": [
    "den = 1-(FB)*(O/Norm)*Ofactor+(FB)*Bfactor\n",
    "den"
   ]
  },
  {
   "cell_type": "code",
   "execution_count": 67,
   "metadata": {},
   "outputs": [
    {
     "data": {
      "text/plain": [
       "0.00923765466975292"
      ]
     },
     "execution_count": 67,
     "metadata": {},
     "output_type": "execute_result"
    }
   ],
   "source": [
    "bias = 1/den*(1/Norm)*Ofactor\n",
    "bias"
   ]
  },
  {
   "cell_type": "code",
   "execution_count": 68,
   "metadata": {},
   "outputs": [
    {
     "data": {
      "text/plain": [
       "(8, 6, 6)"
      ]
     },
     "execution_count": 68,
     "metadata": {},
     "output_type": "execute_result"
    }
   ],
   "source": [
    "invMandel.shape"
   ]
  },
  {
   "cell_type": "code",
   "execution_count": 69,
   "metadata": {},
   "outputs": [],
   "source": [
    "lambda_over_2 = (1+FB*bias*O)/Norm"
   ]
  },
  {
   "cell_type": "code",
   "execution_count": 70,
   "metadata": {},
   "outputs": [],
   "source": [
    "K = (P+np.sqrt(2)*Q)"
   ]
  },
  {
   "cell_type": "code",
   "execution_count": 71,
   "metadata": {},
   "outputs": [],
   "source": [
    "number = np.einsum('ij, ...jk, k, i', K, invMandel, C, E)\n",
    "Norm = integrate_discrete(number, ells)"
   ]
  },
  {
   "cell_type": "code",
   "execution_count": 72,
   "metadata": {},
   "outputs": [],
   "source": [
    "O = np.einsum('ij, ...jk, ...k, i', K, invMandel, Bvec, E)\n",
    "O = integrate_discrete(O, ells)"
   ]
  },
  {
   "cell_type": "code",
   "execution_count": 73,
   "metadata": {},
   "outputs": [],
   "source": [
    "FB = 0."
   ]
  },
  {
   "cell_type": "code",
   "execution_count": 74,
   "metadata": {},
   "outputs": [],
   "source": [
    "def getstandardA0():\n",
    "    \n",
    "    invMandel_selected = invMandel[1, :, :]\n",
    "\n",
    "    MM = invMandel_selected\n",
    "    \n",
    "    number = np.einsum('ij, ...jk, k, i', K, MM, C, E)\n",
    "    Norm = integrate_discrete(number, ells)\n",
    "    \n",
    "    O = np.einsum('ij, ...jk, ...k, i', K, MM, Bvec, E)\n",
    "    O = integrate_discrete(O, ells)\n",
    "\n",
    "    A0 = MM@C/Norm\n",
    " \n",
    "    return A0"
   ]
  },
  {
   "cell_type": "code",
   "execution_count": 75,
   "metadata": {},
   "outputs": [],
   "source": [
    "def getA0(x):\n",
    "    l1, l2, l3 = x\n",
    "    R = np.diag(np.ones(6, dtype = float))+l1*Z1+l2*Z2+l3*Z3\n",
    "    \n",
    "    index = 1\n",
    "    invMandel_selected = invMandel[index, :, :]\n",
    "    \n",
    "    #invR = np.diag(np.ones(6, dtype = float))-l1*Z1+l2*Z2+l3*Z3 \n",
    "    invR = np.linalg.inv(R)\n",
    "    \n",
    "    MM = invR@invMandel_selected\n",
    "    \n",
    "    number = np.einsum('ij, jk, k, i', K, MM, C, E)\n",
    "    Norm = integrate_discrete(number, ells)\n",
    "    \n",
    "    number = np.einsum('ij, jk, k, i', K, invMandel_selected, C, E)\n",
    "    Normstd = integrate_discrete(number, ells)\n",
    "    \n",
    "    O = np.einsum('ij, jk, k, i', K, MM, Bvec[index], E)\n",
    "    O = integrate_discrete(O, ells)\n",
    "    \n",
    "    Ofactor = np.einsum('ij, i, j', MM, C, Bvec[index])\n",
    "    Ofactor = integrate_discrete(Ofactor, ells)\n",
    "    \n",
    "    Bfactor = np.einsum('ij, i, j', MM, Bvec[index], Bvec[index])\n",
    "    Bfactor = integrate_discrete(Bfactor, ells)\n",
    "    \n",
    "    den = 1-FB*(O/Norm)*Ofactor+FB*Bfactor\n",
    "    num = (Ofactor/Norm)*np.einsum('ij, j -> i', MM, (O/Norm)*C-Bvec[index])\n",
    "\n",
    "    A0 = MM@C/Norm+FB*num/den\n",
    " \n",
    "    return A0*Normstd"
   ]
  },
  {
   "cell_type": "code",
   "execution_count": 76,
   "metadata": {},
   "outputs": [],
   "source": [
    "def getA0v2(x):\n",
    "    l1, l2, l3 = x\n",
    "    R = np.diag(np.ones(6, dtype = float))+l1*Z1+l2*Z2+l3*Z3\n",
    "    \n",
    "    index = 1\n",
    "    invMandel_selected = invMandel[index, :, :]\n",
    "    \n",
    "    invR = np.linalg.inv(R)\n",
    "    \n",
    "    MM = invMandel_selected\n",
    "    \n",
    "    vettore = MM@C\n",
    "    invvettore = np.linalg.solve(R, vettore)\n",
    "    \n",
    "    number = np.einsum('ij, j, i', K, invvettore, E)\n",
    "    Norm = integrate_discrete(number, ells)\n",
    "    \n",
    "    number = np.einsum('ij, jk, k, i', K, invMandel_selected, C, E)\n",
    "    Normstd = integrate_discrete(number, ells)\n",
    "    \n",
    "    vettore = MM@Bvec[index]\n",
    "    invvettore = np.linalg.solve(R, vettore)\n",
    "    O = np.einsum('ij, j, i', K, invvettore, E)\n",
    "    O = integrate_discrete(O, ells)\n",
    "    \n",
    "    vettore = MM@C\n",
    "    invvettore = np.linalg.solve(R, vettore)\n",
    "    Ofactor = np.einsum('i, i', invvettore, Bvec[index])\n",
    "    Ofactor = integrate_discrete(Ofactor, ells)\n",
    "    \n",
    "    vettore = MM@Bvec[index]\n",
    "    invvettore = np.linalg.solve(R, vettore)\n",
    "    Bfactor = np.einsum('i, i', invvettore, Bvec[index])\n",
    "    Bfactor = integrate_discrete(Bfactor, ells)\n",
    "    \n",
    "    den = 1-FB*(O/Norm)*Ofactor+FB*Bfactor\n",
    "    vettore = MM@((O/Norm)*C-Bvec[index])\n",
    "    invvettore = np.linalg.solve(R, vettore)\n",
    "    num = (Ofactor/Norm)*invvettore\n",
    "\n",
    "    A0 = MM@C/Norm+FB*num/den\n",
    " \n",
    "    return A0*Normstd"
   ]
  },
  {
   "cell_type": "code",
   "execution_count": 77,
   "metadata": {},
   "outputs": [],
   "source": [
    "def getNormStd():\n",
    "\n",
    "    invMandel_selected = invMandel\n",
    "    \n",
    "\n",
    "    \n",
    "    number = np.einsum('ij, ...jk, k, i -> ...', K, invMandel_selected, C, E)\n",
    "    Normstd = integrate_discrete(number, ells)\n",
    "\n",
    " \n",
    "    return Normstd"
   ]
  },
  {
   "cell_type": "code",
   "execution_count": 126,
   "metadata": {},
   "outputs": [],
   "source": [
    "def getA0withindex(FB):\n",
    "    def getA0(x):\n",
    "        newx = x.reshape((len(ells), 3))\n",
    "        l1, l2, l3 = newx[:, 0], newx[:, 1], newx[:, 2]\n",
    "        \n",
    "        part = np.einsum('..., ...ij, jk -> ...ik', l1, invMandel, Z1)\n",
    "        part += np.einsum('..., ...ij, jk -> ...ik', l2, invMandel, Z2)\n",
    "        part += np.einsum('..., ...ij, jk -> ...ik', l3, invMandel, Z3)\n",
    "        \n",
    "        identity = np.diag(np.ones(6, dtype = float))\n",
    "        R = identity-part\n",
    "        \n",
    "        invMandel_selected = invMandel\n",
    "\n",
    "        invR = np.linalg.inv(R)\n",
    "\n",
    "        MM = np.einsum('...ij, ...jk -> ...ik', invR, invMandel_selected)\n",
    "        \n",
    "        number = np.einsum('ij, ...jk, k, i -> ...', K, MM, C, E)\n",
    "        Norm = integrate_discrete(number, ells)\n",
    "\n",
    "        number = np.einsum('ij, ...jk, k, i -> ...', K, invMandel_selected, C, E)\n",
    "        Normstd = integrate_discrete(number, ells)\n",
    "\n",
    "        O = np.einsum('ij, ...jk, ...k, i -> ...', K, MM, Bvec, E)\n",
    "        O = integrate_discrete(O, ells)\n",
    "\n",
    "        Ofactor = np.einsum('...ij, j, ...i -> ...', MM, C, Bvec)\n",
    "        Ofactor = integrate_discrete(Ofactor, ells)\n",
    "\n",
    "        Bfactor = np.einsum('...ij, ...j, ...i -> ...', MM, Bvec, Bvec)\n",
    "        Bfactor = integrate_discrete(Bfactor, ells)\n",
    "\n",
    "        den = 1-FB*(O/Norm)*Ofactor+FB*Bfactor\n",
    "        \n",
    "        num = (Ofactor/Norm)*np.einsum('...ij, ...j -> ...i', MM, (O/Norm)*C-Bvec)\n",
    "\n",
    "        A0 = MM@C/Norm+FB*num/den\n",
    "\n",
    "        return A0*Normstd\n",
    "    return getA0"
   ]
  },
  {
   "cell_type": "code",
   "execution_count": null,
   "metadata": {},
   "outputs": [],
   "source": [
    "M-li*Zi"
   ]
  },
  {
   "cell_type": "code",
   "execution_count": 174,
   "metadata": {},
   "outputs": [
    {
     "data": {
      "text/plain": [
       "False"
      ]
     },
     "execution_count": 174,
     "metadata": {},
     "output_type": "execute_result"
    }
   ],
   "source": [
    "is_pos_def(MandelMatrix-result.x[0]*Z1)"
   ]
  },
  {
   "cell_type": "code",
   "execution_count": 169,
   "metadata": {},
   "outputs": [
    {
     "data": {
      "text/plain": [
       "(8, 6)"
      ]
     },
     "execution_count": 169,
     "metadata": {},
     "output_type": "execute_result"
    }
   ],
   "source": [
    "np.linalg.eigvals(MandelMatrix).shape"
   ]
  },
  {
   "cell_type": "code",
   "execution_count": 167,
   "metadata": {},
   "outputs": [
    {
     "data": {
      "text/plain": [
       "\u001b[0;31mSignature:\u001b[0m \u001b[0mis_pos_def\u001b[0m\u001b[0;34m(\u001b[0m\u001b[0mx\u001b[0m\u001b[0;34m)\u001b[0m\u001b[0;34m\u001b[0m\u001b[0;34m\u001b[0m\u001b[0m\n",
       "\u001b[0;31mDocstring:\u001b[0m <no docstring>\n",
       "\u001b[0;31mSource:\u001b[0m   \n",
       "\u001b[0;32mdef\u001b[0m \u001b[0mis_pos_def\u001b[0m\u001b[0;34m(\u001b[0m\u001b[0mx\u001b[0m\u001b[0;34m)\u001b[0m\u001b[0;34m:\u001b[0m\u001b[0;34m\u001b[0m\n",
       "\u001b[0;34m\u001b[0m    \u001b[0;32mreturn\u001b[0m \u001b[0mnp\u001b[0m\u001b[0;34m.\u001b[0m\u001b[0mall\u001b[0m\u001b[0;34m(\u001b[0m\u001b[0mnp\u001b[0m\u001b[0;34m.\u001b[0m\u001b[0mlinalg\u001b[0m\u001b[0;34m.\u001b[0m\u001b[0meigvals\u001b[0m\u001b[0;34m(\u001b[0m\u001b[0mx\u001b[0m\u001b[0;34m)\u001b[0m \u001b[0;34m>\u001b[0m \u001b[0;36m0\u001b[0m\u001b[0;34m)\u001b[0m\u001b[0;34m\u001b[0m\u001b[0;34m\u001b[0m\u001b[0m\n",
       "\u001b[0;31mFile:\u001b[0m      /gpfs/fs0/scratch/r/rbond/omard/CORI17112020/qelensingcomb/<ipython-input-39-1c3b060f2f7d>\n",
       "\u001b[0;31mType:\u001b[0m      function\n"
      ]
     },
     "metadata": {},
     "output_type": "display_data"
    }
   ],
   "source": [
    "is_pos_def??"
   ]
  },
  {
   "cell_type": "code",
   "execution_count": 110,
   "metadata": {},
   "outputs": [],
   "source": [
    "def gettotal(A0, FB):\n",
    "    total = 0\n",
    "    variance = np.einsum('...i, ...ik, ...k -> ...', A0, MandelMatrix, A0)\n",
    "    variance = integrate_discrete(number, ells)\n",
    "    bias = np.einsum('...i, ...i -> ...', A0, Bvec)\n",
    "    bias = integrate_discrete(bias, ells)\n",
    "    total = variance+FB*bias**2.\n",
    "    return total\n",
    "\n",
    "#Idea is to find the lambdas while minizing for total functional"
   ]
  },
  {
   "cell_type": "code",
   "execution_count": 80,
   "metadata": {},
   "outputs": [],
   "source": [
    "SA = SemiAnalytical(ells, MandelMatrix, Bvec)"
   ]
  },
  {
   "cell_type": "code",
   "execution_count": 177,
   "metadata": {},
   "outputs": [],
   "source": [
    "Q1 = (SA.Q1+SA.Q1.T)/2\n",
    "Q2 = (SA.Q2+SA.Q2.T)/2\n",
    "Q3 = (SA.Q3+SA.Q3.T)/2\n",
    "\n",
    "\n",
    "Z1 = (SA.Z1+SA.Z1.T)/2\n",
    "Z2 = (SA.Z2+SA.Z2.T)/2\n",
    "Z3 = (SA.Z3+SA.Z3.T)/2"
   ]
  },
  {
   "cell_type": "code",
   "execution_count": 178,
   "metadata": {},
   "outputs": [],
   "source": [
    "def per_l(A0):\n",
    "        one = abs(np.einsum('...i, ij, ...j -> ...', A0, Z1, A0))\n",
    "        two = abs(np.einsum('...i, ij, ...j -> ...', A0, Z2, A0))\n",
    "        three = abs(np.einsum('...i, ij, ...j -> ...', A0, Z3, A0))\n",
    "        return np.c_[one, two, three]"
   ]
  },
  {
   "cell_type": "code",
   "execution_count": 179,
   "metadata": {},
   "outputs": [],
   "source": [
    "def per_l_mod(A0):\n",
    "        one = abs(np.einsum('...i, ij, ...j -> ...', A0, (Z1-Q1), A0)/np.einsum('...i, ij, ...j -> ...', A0, Q1, A0))\n",
    "        two = abs(np.einsum('...i, ij, ...j -> ...', A0, (Z2-Q2), A0)/np.einsum('...i, ij, ...j -> ...', A0, Q2, A0))\n",
    "        three = abs(np.einsum('...i, ij, ...j -> ...', A0, (Z3-Q3), A0)/np.einsum('...i, ij, ...j -> ...', A0, Q3, A0))\n",
    "        arr = np.append(np.append(one, two), three)-1\n",
    "        return abs(arr)"
   ]
  },
  {
   "cell_type": "code",
   "execution_count": 180,
   "metadata": {},
   "outputs": [],
   "source": [
    "def function_per_l(x, mod = False):\n",
    "        A0 = getA0(x)\n",
    "        return per_l(A0) if not mod else per_l_mod(A0)"
   ]
  },
  {
   "cell_type": "code",
   "execution_count": 181,
   "metadata": {},
   "outputs": [],
   "source": [
    "def function(x, mod = False):\n",
    "        return function_per_l(x, mod).flatten()"
   ]
  },
  {
   "cell_type": "code",
   "execution_count": 182,
   "metadata": {},
   "outputs": [],
   "source": [
    "old = np.zeros(3*8)"
   ]
  },
  {
   "cell_type": "code",
   "execution_count": 183,
   "metadata": {},
   "outputs": [],
   "source": [
    "getA0 = getA0withindex(FB = 0.1)"
   ]
  },
  {
   "cell_type": "code",
   "execution_count": 184,
   "metadata": {},
   "outputs": [
    {
     "name": "stderr",
     "output_type": "stream",
     "text": [
      "/home/r/rbond/omard/.local/lib/python3.6/site-packages/ipykernel_launcher.py:2: OptimizeWarning: Unknown solver options: ftol\n",
      "  \n"
     ]
    },
    {
     "data": {
      "text/plain": [
       "False"
      ]
     },
     "execution_count": 184,
     "metadata": {},
     "output_type": "execute_result"
    }
   ],
   "source": [
    "result = optimize.root(function, np.array(old), method = 'hybr', \n",
    "                       options = {'maxfev': 10000, 'xtol': 1e-6, 'ftol': 1e-14})\n",
    "result.success"
   ]
  },
  {
   "cell_type": "code",
   "execution_count": 185,
   "metadata": {},
   "outputs": [],
   "source": [
    "allresults = getA0(result.x)/getNormStd()"
   ]
  },
  {
   "cell_type": "code",
   "execution_count": 186,
   "metadata": {},
   "outputs": [
    {
     "name": "stdout",
     "output_type": "stream",
     "text": [
      "(8,)\n"
     ]
    },
    {
     "data": {
      "text/plain": [
       "0.9999999999996559"
      ]
     },
     "execution_count": 186,
     "metadata": {},
     "output_type": "execute_result"
    }
   ],
   "source": [
    "check = np.einsum('ij, ...j -> ...i', (P+np.sqrt(2)*Q), allresults)\n",
    "check = np.einsum('...i, i -> ...', check, E)\n",
    "print(check.shape)\n",
    "integrate_discrete(check, ells)"
   ]
  },
  {
   "cell_type": "code",
   "execution_count": 187,
   "metadata": {},
   "outputs": [
    {
     "data": {
      "text/plain": [
       "array([-2.66635870e-01,  1.30413167e-01,  1.04234329e-01, -1.78856700e-01,\n",
       "        8.60082701e-02,  1.44806686e-01, -2.93119514e-01,  1.41319656e-01,\n",
       "        9.83932811e-02, -2.20355504e+01,  2.65395292e+00, -2.81793570e+00,\n",
       "       -3.36502606e+00,  4.17020203e-01, -1.78665723e+00, -3.10679305e+02,\n",
       "        1.09260525e+01,  4.23006310e+01,  4.73187606e+02,  1.23864204e+02,\n",
       "       -4.60002151e+01, -1.00679563e+03,  1.55882468e+02,  1.82490374e+02])"
      ]
     },
     "execution_count": 187,
     "metadata": {},
     "output_type": "execute_result"
    }
   ],
   "source": [
    "old = result.x\n",
    "old"
   ]
  },
  {
   "cell_type": "code",
   "execution_count": 188,
   "metadata": {},
   "outputs": [
    {
     "data": {
      "text/plain": [
       "array([3.14271337e-03, 9.63440134e-03, 4.88070889e-02, 7.87177846e-03,\n",
       "       8.50064288e-03, 1.34775316e-02, 8.81438489e-05, 3.81962470e-04,\n",
       "       1.71048187e-03, 3.13108821e-04, 3.32220872e-03, 1.49994794e-03,\n",
       "       1.00514686e-03, 2.79661923e-03, 1.79504757e-03, 4.09931254e-06,\n",
       "       1.23418404e-04, 2.83672384e-05, 1.10473837e-06, 4.10876265e-06,\n",
       "       3.10109983e-05, 1.41879338e-07, 2.80301094e-07, 3.17211773e-07])"
      ]
     },
     "execution_count": 188,
     "metadata": {},
     "output_type": "execute_result"
    }
   ],
   "source": [
    "function(result.x)"
   ]
  },
  {
   "cell_type": "code",
   "execution_count": 189,
   "metadata": {},
   "outputs": [
    {
     "data": {
      "text/plain": [
       "array([-1.37639341e+02,  5.58859289e-02,  2.86937028e-01, -8.41675154e+02,\n",
       "       -9.36022864e+00,  2.98537823e+02, -1.74983524e+04,  1.58468965e-01])"
      ]
     },
     "execution_count": 189,
     "metadata": {},
     "output_type": "execute_result"
    }
   ],
   "source": [
    "AA = getA0(result.x)\n",
    "AA[:, 0]*AA[:, 1]*2/AA[:, 5]**2"
   ]
  },
  {
   "cell_type": "code",
   "execution_count": 102,
   "metadata": {},
   "outputs": [],
   "source": [
    "def get_constr(i):\n",
    "    return lambda x: function_per_l(x, mod = False)[i]\n",
    "\n",
    "constrs = [{'type': 'eq', 'fun': get_constr(i)} for i in range(3*8)]"
   ]
  },
  {
   "cell_type": "code",
   "execution_count": 103,
   "metadata": {},
   "outputs": [],
   "source": [
    "constrf = lambda x: function(x, mod = False)\n",
    "\n",
    "constrs = [{'type': 'eq', 'fun': constrf}]"
   ]
  },
  {
   "cell_type": "code",
   "execution_count": 111,
   "metadata": {},
   "outputs": [],
   "source": [
    "FB = 0."
   ]
  },
  {
   "cell_type": "code",
   "execution_count": 112,
   "metadata": {},
   "outputs": [],
   "source": [
    "getA0 = getA0withindex(FB = FB)"
   ]
  },
  {
   "cell_type": "code",
   "execution_count": 113,
   "metadata": {},
   "outputs": [],
   "source": [
    "f = lambda x: gettotal(getA0(x), FB)"
   ]
  },
  {
   "cell_type": "code",
   "execution_count": 114,
   "metadata": {},
   "outputs": [
    {
     "data": {
      "text/plain": [
       "     fun: 14435.239692675012\n",
       "     jac: array([0., 0., 0., 0., 0., 0., 0., 0., 0., 0., 0., 0., 0., 0., 0., 0., 0.,\n",
       "       0., 0., 0., 0., 0., 0., 0.])\n",
       " message: 'Optimization terminated successfully.'\n",
       "    nfev: 26\n",
       "     nit: 1\n",
       "    njev: 1\n",
       "  status: 0\n",
       " success: True\n",
       "       x: array([ 0., -0., -0., -0., -0., -0.,  0., -0., -0., -0., -0.,  0.,  0.,\n",
       "       -0.,  0., -0., -0.,  0., -0., -0.,  0., -0.,  0., -0.])"
      ]
     },
     "execution_count": 114,
     "metadata": {},
     "output_type": "execute_result"
    }
   ],
   "source": [
    "resultf = optimize.minimize(f, resultf.x*0 , constraints = constrs)\n",
    "resultf"
   ]
  },
  {
   "cell_type": "code",
   "execution_count": 125,
   "metadata": {},
   "outputs": [
    {
     "name": "stdout",
     "output_type": "stream",
     "text": [
      "Breaking\n",
      "Iteration limit exceeded\n",
      "1 0.0005\n"
     ]
    }
   ],
   "source": [
    "oldf = np.zeros(3*8)\n",
    "methodA = 'trust-constr'\n",
    "methodB = 'SLSQP'\n",
    "method = methodB\n",
    "\n",
    "for i in range(5000):\n",
    "    step = 0.0005\n",
    "    getA0 = getA0withindex(FB = 0.0+i*step)\n",
    "    f = lambda x: gettotal(getA0(x)/getNormStd(), FB)\n",
    "    def function_per_l(x):\n",
    "        A0 = getA0(x)\n",
    "        return per_l(A0)\n",
    "    def function(x):\n",
    "        return function_per_l(x).flatten()\n",
    "    constrf = lambda x: function(x)\n",
    "    constrs = [{'type': 'eq', 'fun': constrf}]\n",
    "    \n",
    "    resultf = optimize.minimize(f, oldf , constraints = constrs, method = method)\n",
    "    oldf = resultf.x\n",
    "    #print(resultf.success)\n",
    "    if not resultf.success:\n",
    "        print('Breaking')\n",
    "        print(resultf.message)\n",
    "        break\n",
    "print(i, i*step)"
   ]
  },
  {
   "cell_type": "code",
   "execution_count": 116,
   "metadata": {},
   "outputs": [
    {
     "data": {
      "text/plain": [
       "0.025"
      ]
     },
     "execution_count": 116,
     "metadata": {},
     "output_type": "execute_result"
    }
   ],
   "source": [
    "step*5000"
   ]
  },
  {
   "cell_type": "code",
   "execution_count": 2538,
   "metadata": {},
   "outputs": [],
   "source": [
    "#resultf = optimize.minimize(f, oldf , constraints = constrs)\n",
    "#resultf"
   ]
  },
  {
   "cell_type": "code",
   "execution_count": 122,
   "metadata": {},
   "outputs": [
    {
     "data": {
      "text/plain": [
       "array([3.64175066e-08, 2.15576448e-02, 1.22965586e-04, 1.33102705e-08,\n",
       "       1.75044274e-03, 4.57342178e-06, 7.57662209e-10, 6.56474529e-06,\n",
       "       1.31416659e-07, 1.07785261e-09, 7.21916439e-07, 1.34322144e-08,\n",
       "       1.16983512e-10, 1.66841118e-07, 8.36309006e-10, 9.96355015e-11,\n",
       "       1.02440477e-08, 8.40801582e-10, 3.85505049e-12, 1.02987492e-09,\n",
       "       1.65955811e-10, 9.53483465e-14, 1.03819741e-10, 1.74308140e-11])"
      ]
     },
     "execution_count": 122,
     "metadata": {},
     "output_type": "execute_result"
    }
   ],
   "source": [
    "constrf(resultf.x)"
   ]
  },
  {
   "cell_type": "code",
   "execution_count": 123,
   "metadata": {},
   "outputs": [
    {
     "data": {
      "text/plain": [
       "array([-1.48076118e+05,  1.46380635e+03, -1.98051561e+06,  9.65536859e-01,\n",
       "        9.67737763e-01,  9.92269193e-01,  9.96517871e-01,  9.73277469e-01])"
      ]
     },
     "execution_count": 123,
     "metadata": {},
     "output_type": "execute_result"
    }
   ],
   "source": [
    "AA = getA0(resultf.x)\n",
    "AA[:, 0]*AA[:, 1]*2/AA[:, 5]**2"
   ]
  },
  {
   "cell_type": "code",
   "execution_count": null,
   "metadata": {},
   "outputs": [],
   "source": []
  },
  {
   "cell_type": "code",
   "execution_count": 2542,
   "metadata": {},
   "outputs": [],
   "source": [
    "allresults = getA0(resultf.x)/getNormStd() #getA0(result.x)/getNormStd()"
   ]
  },
  {
   "cell_type": "code",
   "execution_count": 2543,
   "metadata": {},
   "outputs": [
    {
     "data": {
      "text/plain": [
       "array([1.75970556e-05, 1.60176704e-05, 1.24145749e-05, 8.30960614e-06,\n",
       "       3.59865697e-06, 1.43180621e-06, 4.74697023e-07, 1.36802873e-07])"
      ]
     },
     "execution_count": 2543,
     "metadata": {},
     "output_type": "execute_result"
    }
   ],
   "source": [
    "w_from_prime = allresults[:, 0:3].sum(axis = 1)+np.sqrt(2)*allresults[:, 3:6].sum(axis = 1)\n",
    "w_from_prime"
   ]
  },
  {
   "cell_type": "code",
   "execution_count": 2544,
   "metadata": {},
   "outputs": [
    {
     "data": {
      "text/plain": [
       "array([1.76086057e-05, 1.58148116e-05, 1.22964332e-05, 8.24971627e-06,\n",
       "       3.59011312e-06, 1.43713699e-06, 4.80646367e-07, 1.41691773e-07])"
      ]
     },
     "execution_count": 2544,
     "metadata": {},
     "output_type": "execute_result"
    }
   ],
   "source": [
    "mvVector = lambda_over_2*np.einsum('...ij, j -> ...i', invMandel, C)\n",
    "wLcalculated = mvVector[:, 0:3].sum(axis = 1)+np.sqrt(2)*mvVector[:, 3:6].sum(axis = 1)\n",
    "wLcalculated"
   ]
  },
  {
   "cell_type": "code",
   "execution_count": 2545,
   "metadata": {},
   "outputs": [
    {
     "data": {
      "image/png": "[encoded data removed]",
      "text/plain": [
       "<Figure size 432x288 with 1 Axes>"
      ]
     },
     "metadata": {
      "needs_background": "light"
     },
     "output_type": "display_data"
    }
   ],
   "source": [
    "plt.plot(ells, w_from_prime)\n",
    "plt.plot(ells, wLcalculated)\n",
    "plt.xscale('log')"
   ]
  },
  {
   "cell_type": "code",
   "execution_count": 1735,
   "metadata": {},
   "outputs": [
    {
     "name": "stdout",
     "output_type": "stream",
     "text": [
      "(8,)\n"
     ]
    },
    {
     "data": {
      "text/plain": [
       "1.0000000000000187"
      ]
     },
     "execution_count": 1735,
     "metadata": {},
     "output_type": "execute_result"
    }
   ],
   "source": [
    "check = np.einsum('ij, ...j -> ...i', (P+np.sqrt(2)*Q), allresults)\n",
    "check = np.einsum('...i, i -> ...', check, E)\n",
    "print(check.shape)\n",
    "integrate_discrete(check, ells)"
   ]
  },
  {
   "cell_type": "code",
   "execution_count": 1736,
   "metadata": {},
   "outputs": [
    {
     "name": "stdout",
     "output_type": "stream",
     "text": [
      "(8,)\n"
     ]
    },
    {
     "data": {
      "text/plain": [
       "1.0000000000000062"
      ]
     },
     "execution_count": 1736,
     "metadata": {},
     "output_type": "execute_result"
    }
   ],
   "source": [
    "check = np.einsum('ij, ...j -> ...i', (P+np.sqrt(2)*Q), mvVector)\n",
    "check = np.einsum('...i, i -> ...', check, E)\n",
    "print(check.shape)\n",
    "integrate_discrete(check, ells)"
   ]
  },
  {
   "cell_type": "code",
   "execution_count": 1737,
   "metadata": {},
   "outputs": [
    {
     "name": "stderr",
     "output_type": "stream",
     "text": [
      "/home/r/rbond/omard/.local/lib/python3.6/site-packages/ipykernel_launcher.py:1: RuntimeWarning: invalid value encountered in sqrt\n",
      "  \"\"\"Entry point for launching an IPython kernel.\n",
      "/home/r/rbond/omard/.local/lib/python3.6/site-packages/ipykernel_launcher.py:2: RuntimeWarning: invalid value encountered in sqrt\n",
      "  \n"
     ]
    },
    {
     "data": {
      "text/plain": [
       "array([       nan,        nan,        nan, 1.01168623, 0.86266051,\n",
       "              nan,        nan,        nan])"
      ]
     },
     "execution_count": 1737,
     "metadata": {},
     "output_type": "execute_result"
    }
   ],
   "source": [
    "a1 = np.sqrt(allresults[:, 0]/w_from_prime)\n",
    "a2 = np.sqrt(allresults[:, 1]/(w_from_prime))\n",
    "a3 = np.sqrt(allresults[:, 2]/(w_from_prime))\n",
    "a1+a2+a3"
   ]
  },
  {
   "cell_type": "code",
   "execution_count": 1456,
   "metadata": {},
   "outputs": [
    {
     "data": {
      "text/plain": [
       "array([ 3.06668402e+00,  5.03055936e-03, -1.23616930e+00,  3.69471362e-01,\n",
       "       -6.13607462e+00,  5.79958446e-01, -5.33964286e-01,  1.63035439e-01])"
      ]
     },
     "execution_count": 1456,
     "metadata": {},
     "output_type": "execute_result"
    }
   ],
   "source": [
    "allresults[:, 0]*allresults[:, 1]*2/allresults[:, 5]**2"
   ]
  },
  {
   "cell_type": "code",
   "execution_count": null,
   "metadata": {},
   "outputs": [],
   "source": []
  },
  {
   "cell_type": "raw",
   "metadata": {},
   "source": [
    "allresults = np.zeros((len(ells), 6))\n",
    "\n",
    "for i, l in enumerate(ells):\n",
    "    getA0 = getA0withindex(i, FB = 0.)\n",
    "    def function(x):\n",
    "        A0 = getA0(x)\n",
    "        return np.array([A0.T@Z1@A0, A0.T@Z2@A0, A0.T@Z3@A0])\n",
    "    \n",
    "    result = optimize.root(function, np.array([0., 0., 0.]), method = 'hybr', \n",
    "                       options = {'maxfev': 10000, 'xtol': 1e-4, 'ftol': 1e-20})\n",
    "    \n",
    "    allresults[i, :] = getA0(result.x)/getNormStd(i)"
   ]
  },
  {
   "cell_type": "code",
   "execution_count": 1144,
   "metadata": {},
   "outputs": [
    {
     "data": {
      "text/plain": [
       "    fjac: array([[-1.00000000e+00, -3.16067977e-10, -4.58581922e-11],\n",
       "       [ 3.18544125e-10, -9.97421326e-01, -7.17683600e-02],\n",
       "       [ 2.30562759e-11,  7.17683600e-02, -9.97421326e-01]])\n",
       "     fun: array([-1.66126433e-67, -1.73479572e-64, -3.07029539e-65])\n",
       " message: 'The iteration is not making good progress, as measured by the \\n  improvement from the last ten iterations.'\n",
       "    nfev: 18\n",
       "     qtf: array([1.66126489e-67, 1.75235725e-64, 1.81734367e-65])\n",
       "       r: array([ 4.06882520e-74,  2.09082465e-76,  2.04364940e-74,  2.20510992e-76,\n",
       "       -4.80360538e-76, -3.61961890e-77])\n",
       "  status: 5\n",
       " success: False\n",
       "       x: array([2.98718331e+10, 2.98718331e+10, 5.97436662e+10])"
      ]
     },
     "execution_count": 1144,
     "metadata": {},
     "output_type": "execute_result"
    }
   ],
   "source": [
    "result"
   ]
  },
  {
   "cell_type": "code",
   "execution_count": 1145,
   "metadata": {},
   "outputs": [
    {
     "data": {
      "text/plain": [
       "array([7.16972284e-39, 7.20322930e-13, 6.31229704e-13, 7.03753431e-13,\n",
       "       3.15650594e-49, 5.15454687e-55, 1.26543217e-12, 2.82258267e-56])"
      ]
     },
     "execution_count": 1145,
     "metadata": {},
     "output_type": "execute_result"
    }
   ],
   "source": [
    "w_from_prime = (allresults[:, 0]+allresults[:, 1]+allresults[:, 2])**2\n",
    "w_from_prime"
   ]
  },
  {
   "cell_type": "code",
   "execution_count": 1146,
   "metadata": {},
   "outputs": [
    {
     "data": {
      "text/plain": [
       "[<matplotlib.lines.Line2D at 0x7f5d787bcb00>]"
      ]
     },
     "execution_count": 1146,
     "metadata": {},
     "output_type": "execute_result"
    },
    {
     "data": {
      "image/png": "[encoded data removed]",
      "text/plain": [
       "<Figure size 432x288 with 1 Axes>"
      ]
     },
     "metadata": {
      "needs_background": "light"
     },
     "output_type": "display_data"
    }
   ],
   "source": [
    "plt.plot(ells, w_from_prime)"
   ]
  },
  {
   "cell_type": "code",
   "execution_count": null,
   "metadata": {},
   "outputs": [],
   "source": []
  },
  {
   "cell_type": "code",
   "execution_count": null,
   "metadata": {},
   "outputs": [],
   "source": []
  },
  {
   "cell_type": "code",
   "execution_count": 1110,
   "metadata": {},
   "outputs": [
    {
     "name": "stderr",
     "output_type": "stream",
     "text": [
      "/home/r/rbond/omard/.local/lib/python3.6/site-packages/ipykernel_launcher.py:6: OptimizeWarning: Unknown solver options: ftol\n",
      "  \n"
     ]
    }
   ],
   "source": [
    "def function(x):\n",
    "    A0 = getA0v2(x)\n",
    "    return np.array([A0.T@Z1@A0, A0.T@Z2@A0, A0.T@Z3@A0])\n",
    "\n",
    "result = optimize.root(function, np.array([0., 0., 0.]), method = 'hybr', \n",
    "                       options = {'maxfev': 10000, 'xtol': 1e-4, 'ftol': 1e-20})"
   ]
  },
  {
   "cell_type": "code",
   "execution_count": 1111,
   "metadata": {},
   "outputs": [
    {
     "data": {
      "text/plain": [
       "    fjac: array([[-0.1845615 , -0.00587346,  0.98280342],\n",
       "       [-0.98086603, -0.0619399 , -0.18456784],\n",
       "       [ 0.0619588 , -0.9980626 ,  0.00567064]])\n",
       "     fun: array([ 4.96055172e-38, -6.30358846e-37,  2.42016379e-36])\n",
       " message: 'The solution converged.'\n",
       "    nfev: 128\n",
       "     qtf: array([ 2.37309236e-36, -4.56296414e-37,  6.45934974e-37])\n",
       "       r: array([ 1.48840628e-39, -2.68261467e-41, -1.80435489e-38,  1.16094875e-42,\n",
       "        5.40541663e-40,  9.86167271e-41])\n",
       "  status: 1\n",
       " success: True\n",
       "       x: array([-4.56384629e+05, -8.79416958e+07, -1.51336394e+04])"
      ]
     },
     "execution_count": 1111,
     "metadata": {},
     "output_type": "execute_result"
    }
   ],
   "source": [
    "result"
   ]
  },
  {
   "cell_type": "code",
   "execution_count": 1093,
   "metadata": {},
   "outputs": [],
   "source": [
    "AA = getA0(result.x)"
   ]
  },
  {
   "cell_type": "code",
   "execution_count": 1094,
   "metadata": {},
   "outputs": [
    {
     "data": {
      "text/plain": [
       "1.0000000000244442"
      ]
     },
     "execution_count": 1094,
     "metadata": {},
     "output_type": "execute_result"
    }
   ],
   "source": [
    "AA[0]*AA[1]*2/AA[5]**2"
   ]
  },
  {
   "cell_type": "code",
   "execution_count": 1095,
   "metadata": {},
   "outputs": [
    {
     "data": {
      "text/plain": [
       "0.9999999999998727"
      ]
     },
     "execution_count": 1095,
     "metadata": {},
     "output_type": "execute_result"
    }
   ],
   "source": [
    "AA[0]*AA[2]*2/AA[4]**2"
   ]
  },
  {
   "cell_type": "code",
   "execution_count": 1096,
   "metadata": {},
   "outputs": [
    {
     "data": {
      "text/plain": [
       "1.0000000000525846"
      ]
     },
     "execution_count": 1096,
     "metadata": {},
     "output_type": "execute_result"
    }
   ],
   "source": [
    "AA[1]*AA[2]*2/AA[3]**2"
   ]
  },
  {
   "cell_type": "code",
   "execution_count": 1102,
   "metadata": {},
   "outputs": [
    {
     "data": {
      "text/plain": [
       "7.266959708038979e-13"
      ]
     },
     "execution_count": 1102,
     "metadata": {},
     "output_type": "execute_result"
    }
   ],
   "source": [
    "w_from_prime = (AA[0]+AA[1]+AA[2])**2/getNormStd(1)**2\n",
    "w_from_prime"
   ]
  },
  {
   "cell_type": "code",
   "execution_count": null,
   "metadata": {},
   "outputs": [],
   "source": []
  },
  {
   "cell_type": "code",
   "execution_count": null,
   "metadata": {},
   "outputs": [],
   "source": []
  },
  {
   "cell_type": "code",
   "execution_count": null,
   "metadata": {},
   "outputs": [],
   "source": []
  },
  {
   "cell_type": "code",
   "execution_count": 1008,
   "metadata": {},
   "outputs": [],
   "source": [
    "def functionscalar(x):\n",
    "    return function(x).sum()"
   ]
  },
  {
   "cell_type": "code",
   "execution_count": 957,
   "metadata": {},
   "outputs": [
    {
     "name": "stdout",
     "output_type": "stream",
     "text": [
      "Optimization terminated successfully.\n",
      "         Current function value: 0.000000\n",
      "         Iterations: 1000\n",
      "         Function evaluations: 4004\n"
     ]
    }
   ],
   "source": [
    "x0 = np.array([0., 0., 0.])\n",
    "resultdiff = my.diffev(functionscalar, x0, ftol = 1e-16, gtol = 1000, maxiter = 1024**3, maxfun = 1024**3)"
   ]
  },
  {
   "cell_type": "code",
   "execution_count": 958,
   "metadata": {},
   "outputs": [
    {
     "data": {
      "text/plain": [
       "array([ 0.00400217, -0.01896953,  0.02248795])"
      ]
     },
     "execution_count": 958,
     "metadata": {},
     "output_type": "execute_result"
    }
   ],
   "source": [
    "resultdiff"
   ]
  },
  {
   "cell_type": "code",
   "execution_count": 959,
   "metadata": {},
   "outputs": [
    {
     "data": {
      "text/plain": [
       "4.02290417927903e-12"
      ]
     },
     "execution_count": 959,
     "metadata": {},
     "output_type": "execute_result"
    }
   ],
   "source": [
    "functionscalar(resultdiff)"
   ]
  },
  {
   "cell_type": "code",
   "execution_count": 960,
   "metadata": {},
   "outputs": [
    {
     "data": {
      "text/plain": [
       "6.781068985914357e-12"
      ]
     },
     "execution_count": 960,
     "metadata": {},
     "output_type": "execute_result"
    }
   ],
   "source": [
    "functionscalar(x0)"
   ]
  },
  {
   "cell_type": "code",
   "execution_count": 961,
   "metadata": {},
   "outputs": [
    {
     "data": {
      "text/plain": [
       "6.561834307758401e-23"
      ]
     },
     "execution_count": 961,
     "metadata": {},
     "output_type": "execute_result"
    }
   ],
   "source": [
    "functionscalar(result.x)"
   ]
  },
  {
   "cell_type": "code",
   "execution_count": 962,
   "metadata": {},
   "outputs": [
    {
     "data": {
      "text/plain": [
       "    fjac: array([[-1.52788397e-03, -9.96285560e-01, -8.60973171e-02],\n",
       "       [ 2.36743033e-02, -8.61093238e-02,  9.96004373e-01],\n",
       "       [ 9.99718557e-01,  5.16514883e-04, -2.37179316e-02]])\n",
       "     fun: array([1.41610461e-24, 4.34991156e-24, 5.98523269e-23])\n",
       " message: 'The iteration is not making good progress, as measured by the \\n  improvement from the last five Jacobian evaluations.'\n",
       "    nfev: 80\n",
       "     qtf: array([-9.48904249e-24,  5.92721367e-23, -1.62054006e-27])\n",
       "       r: array([-1.08113487e-10, -1.24821386e-09, -9.24870975e-10, -3.55355443e-11,\n",
       "       -1.59860730e-10,  1.00103392e-12])\n",
       "  status: 4\n",
       " success: False\n",
       "       x: array([-4.69436603e-02, -2.12043150e-04, -1.84000622e-05])"
      ]
     },
     "execution_count": 962,
     "metadata": {},
     "output_type": "execute_result"
    }
   ],
   "source": [
    "result"
   ]
  },
  {
   "cell_type": "code",
   "execution_count": 963,
   "metadata": {},
   "outputs": [
    {
     "data": {
      "text/plain": [
       "array([1.41610461e-24, 4.34991156e-24, 5.98523269e-23])"
      ]
     },
     "execution_count": 963,
     "metadata": {},
     "output_type": "execute_result"
    }
   ],
   "source": [
    "function(result.x)"
   ]
  },
  {
   "cell_type": "code",
   "execution_count": 964,
   "metadata": {},
   "outputs": [
    {
     "data": {
      "text/plain": [
       "array([-4.69436603e-02, -2.12043150e-04, -1.84000622e-05])"
      ]
     },
     "execution_count": 964,
     "metadata": {},
     "output_type": "execute_result"
    }
   ],
   "source": [
    "result.x"
   ]
  },
  {
   "cell_type": "code",
   "execution_count": 965,
   "metadata": {},
   "outputs": [
    {
     "data": {
      "text/plain": [
       "array([3.01402898e-08, 1.84643538e-10, 8.22808619e-07, 1.74313663e-08,\n",
       "       2.22709184e-07, 3.33622813e-09])"
      ]
     },
     "execution_count": 965,
     "metadata": {},
     "output_type": "execute_result"
    }
   ],
   "source": [
    "A0 = getA0(result.x)\n",
    "A0"
   ]
  },
  {
   "cell_type": "code",
   "execution_count": 966,
   "metadata": {},
   "outputs": [
    {
     "data": {
      "text/plain": [
       "1.1130419518994896e-17"
      ]
     },
     "execution_count": 966,
     "metadata": {},
     "output_type": "execute_result"
    }
   ],
   "source": [
    "A0[0]*A0[1]*2"
   ]
  },
  {
   "cell_type": "code",
   "execution_count": 967,
   "metadata": {},
   "outputs": [
    {
     "data": {
      "text/plain": [
       "1.1130418102890283e-17"
      ]
     },
     "execution_count": 967,
     "metadata": {},
     "output_type": "execute_result"
    }
   ],
   "source": [
    "A0[5]**2"
   ]
  },
  {
   "cell_type": "code",
   "execution_count": 968,
   "metadata": {},
   "outputs": [
    {
     "data": {
      "text/plain": [
       "array([-1.16725071e-06, -2.33676908e-07, -1.67293176e-06,  9.84360402e-07,\n",
       "        2.78066884e-06, -7.44749132e-07])"
      ]
     },
     "execution_count": 968,
     "metadata": {},
     "output_type": "execute_result"
    }
   ],
   "source": [
    "A0 = getA0(resultdiff)\n",
    "A0"
   ]
  },
  {
   "cell_type": "code",
   "execution_count": 913,
   "metadata": {},
   "outputs": [
    {
     "data": {
      "text/plain": [
       "0.006094021180574725"
      ]
     },
     "execution_count": 913,
     "metadata": {},
     "output_type": "execute_result"
    }
   ],
   "source": [
    "A0[0]*A0[1]*2"
   ]
  },
  {
   "cell_type": "code",
   "execution_count": 914,
   "metadata": {},
   "outputs": [
    {
     "data": {
      "text/plain": [
       "0.013021007552113486"
      ]
     },
     "execution_count": 914,
     "metadata": {},
     "output_type": "execute_result"
    }
   ],
   "source": [
    "A0[5]**2"
   ]
  },
  {
   "cell_type": "code",
   "execution_count": 915,
   "metadata": {},
   "outputs": [
    {
     "data": {
      "text/plain": [
       "array([3.02438463e-08, 1.88189519e-10, 8.22032609e-07, 1.75896516e-08,\n",
       "       2.22986223e-07, 3.37389238e-09])"
      ]
     },
     "execution_count": 915,
     "metadata": {},
     "output_type": "execute_result"
    }
   ],
   "source": [
    "getstandardA0()"
   ]
  },
  {
   "cell_type": "code",
   "execution_count": 916,
   "metadata": {},
   "outputs": [
    {
     "data": {
      "text/plain": [
       "array([8.20584173e-06, 2.55431313e-06, 4.96668656e-05])"
      ]
     },
     "execution_count": 916,
     "metadata": {},
     "output_type": "execute_result"
    }
   ],
   "source": [
    "function(result.x)"
   ]
  },
  {
   "cell_type": "code",
   "execution_count": null,
   "metadata": {},
   "outputs": [],
   "source": []
  },
  {
   "cell_type": "code",
   "execution_count": 917,
   "metadata": {},
   "outputs": [],
   "source": [
    "mvVector = lambda_over_2*np.einsum('...ij, j -> ...i', invMandel, C)-FB*bias*np.einsum('...ij, ...j -> ...i', invMandel, Bvec)"
   ]
  },
  {
   "cell_type": "code",
   "execution_count": 63,
   "metadata": {},
   "outputs": [],
   "source": [
    "Vec = 1/Norm*np.einsum('...ij, j -> ...i', invMandel, C)+FB*bias*np.einsum('...ij, ...j -> ...i', invMandel, (O/Norm)*C-Bvec)"
   ]
  },
  {
   "cell_type": "code",
   "execution_count": 64,
   "metadata": {},
   "outputs": [],
   "source": [
    "AA = np.einsum('...ij, j -> ...i', invMandel, C)"
   ]
  },
  {
   "cell_type": "code",
   "execution_count": 65,
   "metadata": {},
   "outputs": [],
   "source": [
    "index = 1"
   ]
  },
  {
   "cell_type": "code",
   "execution_count": 66,
   "metadata": {},
   "outputs": [
    {
     "data": {
      "text/plain": [
       "1.0000000000464384"
      ]
     },
     "execution_count": 66,
     "metadata": {},
     "output_type": "execute_result"
    }
   ],
   "source": [
    "AA[index, 0]*AA[index, 1]*2/(AA[index, 5]**2)"
   ]
  },
  {
   "cell_type": "code",
   "execution_count": 67,
   "metadata": {},
   "outputs": [
    {
     "data": {
      "text/plain": [
       "array([0.0056652 , 0.00294179, 0.00423567, 0.0048665 , 0.00601772,\n",
       "       0.00671335])"
      ]
     },
     "execution_count": 67,
     "metadata": {},
     "output_type": "execute_result"
    }
   ],
   "source": [
    "Bvec[index]"
   ]
  },
  {
   "cell_type": "code",
   "execution_count": 68,
   "metadata": {},
   "outputs": [
    {
     "data": {
      "text/plain": [
       "array([1.        , 1.        , 1.        , 1.41421356, 1.41421356,\n",
       "       1.41421356])"
      ]
     },
     "execution_count": 68,
     "metadata": {},
     "output_type": "execute_result"
    }
   ],
   "source": [
    "C"
   ]
  },
  {
   "cell_type": "code",
   "execution_count": 69,
   "metadata": {},
   "outputs": [],
   "source": [
    "BB = np.einsum('...ij, ...j -> ...i', invMandel, Bvec)"
   ]
  },
  {
   "cell_type": "code",
   "execution_count": null,
   "metadata": {},
   "outputs": [],
   "source": []
  },
  {
   "cell_type": "code",
   "execution_count": 70,
   "metadata": {},
   "outputs": [
    {
     "data": {
      "text/plain": [
       "0.7212781737789982"
      ]
     },
     "execution_count": 70,
     "metadata": {},
     "output_type": "execute_result"
    }
   ],
   "source": [
    "BB[index, 0]*BB[index, 1]*2/(BB[index, 5]**2)"
   ]
  },
  {
   "cell_type": "code",
   "execution_count": 73,
   "metadata": {},
   "outputs": [
    {
     "data": {
      "text/plain": [
       "array([[-1.44994979e-04, -8.20513850e-06, -2.04424744e-04,\n",
       "         6.46332131e-05,  2.48317800e-04, -4.77557087e-05],\n",
       "       [-9.70120933e-05, -1.22552332e-05, -1.78290951e-04,\n",
       "         7.67736715e-05,  1.97598649e-04, -5.75265566e-05],\n",
       "       [-4.95555499e-05, -2.95556825e-06, -6.29192083e-05,\n",
       "         2.16475612e-05,  8.61908957e-05, -1.61637577e-05],\n",
       "       [-1.06390661e-05, -4.26969260e-07, -3.99318637e-06,\n",
       "         3.74136317e-06,  1.68229949e-05, -3.39412476e-06],\n",
       "       [-6.19749229e-06, -1.83407688e-08, -6.07927980e-06,\n",
       "         1.16519744e-06,  1.12877144e-05, -1.12192767e-06],\n",
       "       [-1.02672514e-06, -1.70466699e-07, -2.04298487e-06,\n",
       "         1.17877990e-06,  2.95384265e-06, -8.86408258e-07],\n",
       "       [-2.02975271e-07,  4.29119239e-08, -3.06898133e-07,\n",
       "         1.13080201e-07,  6.72892387e-07, -1.84313428e-07],\n",
       "       [-3.85702994e-08, -1.04510403e-08, -2.22479673e-07,\n",
       "         9.82974667e-08,  2.09198982e-07, -7.15535920e-08]])"
      ]
     },
     "execution_count": 73,
     "metadata": {},
     "output_type": "execute_result"
    }
   ],
   "source": [
    "Vec"
   ]
  },
  {
   "cell_type": "code",
   "execution_count": 72,
   "metadata": {},
   "outputs": [
    {
     "data": {
      "text/plain": [
       "(8, 6)"
      ]
     },
     "execution_count": 72,
     "metadata": {},
     "output_type": "execute_result"
    }
   ],
   "source": [
    "mvVector.shape"
   ]
  },
  {
   "cell_type": "code",
   "execution_count": 699,
   "metadata": {},
   "outputs": [
    {
     "name": "stdout",
     "output_type": "stream",
     "text": [
      "(8,)\n"
     ]
    },
    {
     "data": {
      "text/plain": [
       "1.000000000000006"
      ]
     },
     "execution_count": 699,
     "metadata": {},
     "output_type": "execute_result"
    }
   ],
   "source": [
    "check = np.einsum('ij, ...j -> ...i', (P+np.sqrt(2)*Q), mvVector)\n",
    "check = np.einsum('...i, i -> ...', check, E)\n",
    "print(check.shape)\n",
    "integrate_discrete(check, ells)"
   ]
  },
  {
   "cell_type": "code",
   "execution_count": 700,
   "metadata": {},
   "outputs": [
    {
     "data": {
      "text/plain": [
       "0.008324484606545696"
      ]
     },
     "execution_count": 700,
     "metadata": {},
     "output_type": "execute_result"
    }
   ],
   "source": [
    "noiseAL = np.einsum('...i, ...ij, ...j -> ...', mvVector, MandelMatrix, mvVector)\n",
    "np.sqrt(integrate_discrete(noiseAL, ells))"
   ]
  },
  {
   "cell_type": "code",
   "execution_count": 701,
   "metadata": {},
   "outputs": [
    {
     "data": {
      "text/plain": [
       "1.1613386332893011e-07"
      ]
     },
     "execution_count": 701,
     "metadata": {},
     "output_type": "execute_result"
    }
   ],
   "source": [
    "bias"
   ]
  },
  {
   "cell_type": "code",
   "execution_count": 702,
   "metadata": {},
   "outputs": [],
   "source": [
    "selection = abs(mvVector)<1e-10\n",
    "mvVector[selection] *= 0."
   ]
  },
  {
   "cell_type": "code",
   "execution_count": 703,
   "metadata": {},
   "outputs": [
    {
     "data": {
      "text/plain": [
       "array([1.76071503e-05, 1.58141153e-05, 1.22961065e-05, 8.24911785e-06,\n",
       "       3.58958007e-06, 1.43718319e-06, 4.80760753e-07, 1.41727943e-07])"
      ]
     },
     "execution_count": 703,
     "metadata": {},
     "output_type": "execute_result"
    }
   ],
   "source": [
    "wLcalculated = mvVector[:, 0:3].sum(axis = 1)+np.sqrt(2)*mvVector[:, 3:6].sum(axis = 1)\n",
    "wLcalculated"
   ]
  },
  {
   "cell_type": "code",
   "execution_count": 704,
   "metadata": {},
   "outputs": [
    {
     "data": {
      "text/plain": [
       "1.0000000000000062"
      ]
     },
     "execution_count": 704,
     "metadata": {},
     "output_type": "execute_result"
    }
   ],
   "source": [
    "integrate_discrete(wLcalculated, ells)"
   ]
  },
  {
   "cell_type": "code",
   "execution_count": 705,
   "metadata": {},
   "outputs": [
    {
     "data": {
      "text/plain": [
       "array([1.76071503e-05, 1.58141153e-05, 1.22961065e-05, 8.24911785e-06,\n",
       "       3.58958007e-06, 1.43718319e-06, 4.80760753e-07, 1.41727943e-07])"
      ]
     },
     "execution_count": 705,
     "metadata": {},
     "output_type": "execute_result"
    }
   ],
   "source": [
    "mvVector[:, 0]+mvVector[:, 1]+mvVector[:, 2]+np.sqrt(2)*(mvVector[:, 3]+mvVector[:, 4]+mvVector[:, 5])"
   ]
  },
  {
   "cell_type": "code",
   "execution_count": 706,
   "metadata": {},
   "outputs": [
    {
     "data": {
      "image/png": "[encoded data removed]",
      "text/plain": [
       "<Figure size 432x288 with 1 Axes>"
      ]
     },
     "metadata": {
      "needs_background": "light"
     },
     "output_type": "display_data"
    }
   ],
   "source": [
    "plt.plot(ells, wLcalculated)\n",
    "plt.xscale('log')"
   ]
  },
  {
   "cell_type": "code",
   "execution_count": 707,
   "metadata": {},
   "outputs": [
    {
     "data": {
      "text/plain": [
       "array([6.11161687e-06, 4.00463067e-06, 2.09114391e-06, 1.07778138e-06,\n",
       "       3.81810343e-07, 6.11293933e-08, 7.56108644e-09, 8.52674483e-10])"
      ]
     },
     "execution_count": 707,
     "metadata": {},
     "output_type": "execute_result"
    }
   ],
   "source": [
    "mvVector[:, 0]"
   ]
  },
  {
   "cell_type": "code",
   "execution_count": 708,
   "metadata": {},
   "outputs": [
    {
     "data": {
      "text/plain": [
       "array([1.01803115e-06, 5.94625374e-07, 2.09062210e-07, 5.47366078e-08,\n",
       "       2.02177199e-08, 2.75535117e-08, 5.34084846e-09, 7.13654733e-10])"
      ]
     },
     "execution_count": 708,
     "metadata": {},
     "output_type": "execute_result"
    }
   ],
   "source": [
    "mvVector[:, 1]"
   ]
  },
  {
   "cell_type": "code",
   "execution_count": 709,
   "metadata": {},
   "outputs": [
    {
     "data": {
      "text/plain": [
       "array([2.29586026e-05, 1.76490071e-05, 1.17091882e-05, 6.86190185e-06,\n",
       "       2.67483835e-06, 1.28531545e-06, 4.67834906e-07, 1.40431772e-07])"
      ]
     },
     "execution_count": 709,
     "metadata": {},
     "output_type": "execute_result"
    }
   ],
   "source": [
    "mvVector[:, 2]"
   ]
  },
  {
   "cell_type": "code",
   "execution_count": 710,
   "metadata": {},
   "outputs": [
    {
     "data": {
      "text/plain": [
       "array([-3.89607518e-06, -2.24337954e-06, -9.97693162e-07, -3.90691674e-07,\n",
       "       -1.34315296e-07, -1.31185183e-07, -4.05220569e-08, -5.40905758e-09])"
      ]
     },
     "execution_count": 710,
     "metadata": {},
     "output_type": "execute_result"
    }
   ],
   "source": [
    "mvVector[:, 3]"
   ]
  },
  {
   "cell_type": "code",
   "execution_count": 711,
   "metadata": {},
   "outputs": [
    {
     "data": {
      "text/plain": [
       "array([-7.71575471e-06, -3.89706952e-06, -9.22081192e-07,  3.42437144e-07,\n",
       "        4.19586683e-07,  1.50813484e-07,  3.91335121e-08,  5.09177877e-09])"
      ]
     },
     "execution_count": 711,
     "metadata": {},
     "output_type": "execute_result"
    }
   ],
   "source": [
    "mvVector[:, 4]"
   ]
  },
  {
   "cell_type": "code",
   "execution_count": 712,
   "metadata": {},
   "outputs": [
    {
     "data": {
      "text/plain": [
       "array([2.78635920e-06, 1.59081950e-06, 7.08296925e-07, 2.28353219e-07,\n",
       "       7.72719186e-08, 2.50501259e-08, 1.40545348e-09, 1.26247904e-10])"
      ]
     },
     "execution_count": 712,
     "metadata": {},
     "output_type": "execute_result"
    }
   ],
   "source": [
    "mvVector[:, 5]"
   ]
  },
  {
   "cell_type": "code",
   "execution_count": 713,
   "metadata": {},
   "outputs": [
    {
     "data": {
      "text/plain": [
       "array([3.52755337e-06, 2.18231758e-06, 9.35071299e-07, 3.43494096e-07,\n",
       "       1.24252441e-07, 5.80401491e-08, 8.98694797e-09, 1.10319099e-09])"
      ]
     },
     "execution_count": 713,
     "metadata": {},
     "output_type": "execute_result"
    }
   ],
   "source": [
    "np.sqrt(mvVector[:, 0]*mvVector[:, 1]*2)"
   ]
  },
  {
   "cell_type": "code",
   "execution_count": 714,
   "metadata": {},
   "outputs": [],
   "source": [
    "a2 = mvVector[:, 5]**2/mvVector[:, 0]/wLcalculated/2\n",
    "a1 = mvVector[:, 5]**2/mvVector[:, 1]/wLcalculated/2\n",
    "a3 = mvVector[:, 3]**2/mvVector[:, 1]/wLcalculated/2"
   ]
  },
  {
   "cell_type": "code",
   "execution_count": 715,
   "metadata": {},
   "outputs": [],
   "source": [
    "# Aprime = w*A"
   ]
  },
  {
   "cell_type": "code",
   "execution_count": 716,
   "metadata": {},
   "outputs": [
    {
     "data": {
      "text/plain": [
       "array([2.47216846e-03, 2.00115733e-03, 1.44607880e-03, 1.03816250e-03,\n",
       "       6.17908038e-04, 2.47243591e-04, 8.69545079e-05, 2.92005905e-05])"
      ]
     },
     "execution_count": 716,
     "metadata": {},
     "output_type": "execute_result"
    }
   ],
   "source": [
    "A1prime = np.sqrt(mvVector[..., 0]) \n",
    "A1prime"
   ]
  },
  {
   "cell_type": "code",
   "execution_count": 717,
   "metadata": {},
   "outputs": [
    {
     "data": {
      "text/plain": [
       "array([1.00897530e-03, 7.71119559e-04, 4.57233212e-04, 2.33958560e-04,\n",
       "       1.42189029e-04, 1.65992505e-04, 7.30811088e-05, 2.67143170e-05])"
      ]
     },
     "execution_count": 717,
     "metadata": {},
     "output_type": "execute_result"
    }
   ],
   "source": [
    "A2prime = np.sqrt(mvVector[..., 1])\n",
    "A2prime"
   ]
  },
  {
   "cell_type": "code",
   "execution_count": 718,
   "metadata": {},
   "outputs": [
    {
     "data": {
      "text/plain": [
       "array([0.00479151, 0.00420107, 0.00342187, 0.00261952, 0.00163549,\n",
       "       0.00113372, 0.00068398, 0.00037474])"
      ]
     },
     "execution_count": 718,
     "metadata": {},
     "output_type": "execute_result"
    }
   ],
   "source": [
    "A3prime = np.sqrt(mvVector[..., 2])\n",
    "A3prime"
   ]
  },
  {
   "cell_type": "code",
   "execution_count": 719,
   "metadata": {},
   "outputs": [
    {
     "name": "stdout",
     "output_type": "stream",
     "text": [
      "[3.52755337e-06 2.18231758e-06 9.35071299e-07 3.43494096e-07\n",
      " 1.24252441e-07 5.80401491e-08 8.98694797e-09 1.10319099e-09]\n",
      "[2.78635920e-06 1.59081950e-06 7.08296925e-07 2.28353219e-07\n",
      " 7.72719186e-08 2.50501259e-08 1.40545348e-09 1.26247904e-10]\n"
     ]
    }
   ],
   "source": [
    "print(np.sqrt(2)*A1prime*A2prime)\n",
    "print(mvVector[..., 5])"
   ]
  },
  {
   "cell_type": "code",
   "execution_count": 720,
   "metadata": {},
   "outputs": [
    {
     "name": "stdout",
     "output_type": "stream",
     "text": [
      "[1.67519660e-05 1.18893023e-05 6.99794221e-06 3.84594073e-06\n",
      " 1.42918225e-06 3.96410277e-07 8.41111189e-08 1.54753087e-08]\n",
      "[-7.71575471e-06 -3.89706952e-06 -9.22081192e-07  3.42437144e-07\n",
      "  4.19586683e-07  1.50813484e-07  3.91335121e-08  5.09177877e-09]\n"
     ]
    }
   ],
   "source": [
    "print(np.sqrt(2)*A1prime*A3prime)\n",
    "print(mvVector[..., 4])"
   ]
  },
  {
   "cell_type": "code",
   "execution_count": 721,
   "metadata": {},
   "outputs": [
    {
     "name": "stdout",
     "output_type": "stream",
     "text": [
      "[6.83704216e-06 4.58138570e-06 2.21266752e-06 8.66714752e-07\n",
      " 3.28874239e-07 2.66138890e-07 7.06913763e-08 1.41576692e-08]\n",
      "[-3.89607518e-06 -2.24337954e-06 -9.97693162e-07 -3.90691674e-07\n",
      " -1.34315296e-07 -1.31185183e-07 -4.05220569e-08 -5.40905758e-09]\n"
     ]
    }
   ],
   "source": [
    "print(np.sqrt(2)*A2prime*A3prime)\n",
    "print(mvVector[..., 3])"
   ]
  },
  {
   "cell_type": "code",
   "execution_count": 722,
   "metadata": {},
   "outputs": [
    {
     "name": "stdout",
     "output_type": "stream",
     "text": [
      "(8,)\n"
     ]
    },
    {
     "data": {
      "text/plain": [
       "1.000000000000006"
      ]
     },
     "execution_count": 722,
     "metadata": {},
     "output_type": "execute_result"
    }
   ],
   "source": [
    "check = np.einsum('ij, ...j -> ...j', (P+np.sqrt(2)*Q), mvVector)\n",
    "check = np.einsum('...i, i -> ...', check, E)\n",
    "print(check.shape)\n",
    "integrate_discrete(check, ells)"
   ]
  },
  {
   "cell_type": "code",
   "execution_count": 723,
   "metadata": {},
   "outputs": [],
   "source": [
    "invsigma2 = np.nan_to_num(theta[0, 0, 0, 0, :]**-1)\n",
    "invsigma2[1] = 0.\n",
    "factor = integrate_discrete(invsigma2, ells)\n",
    "invvarweights_hu_ok = invsigma2*factor**-1"
   ]
  },
  {
   "cell_type": "code",
   "execution_count": 724,
   "metadata": {},
   "outputs": [],
   "source": [
    "Optimizerkk = best.Opt(['hu_ok', 'shear', 'bh'], 30, 1200, ells, ells*0.+1., \n",
    "                       np.nan_to_num(theta), np.nan_to_num(B), np.nan_to_num(N))"
   ]
  },
  {
   "cell_type": "code",
   "execution_count": 725,
   "metadata": {},
   "outputs": [],
   "source": [
    "optversion = {'weights_name': 'absbias', 'sum_biases_squared': False, 'abs_biases': True, 'bias_squared': False,\n",
    "                      'color': 'purple', 'latexformula': '\\sigma^2(\\hat{A}_{\\rm{comb}})+\\left(\\int_{\\vec{L}}\\vec{a}^TB\\vec{a}\\right)^2'}"
   ]
  },
  {
   "cell_type": "code",
   "execution_count": 467,
   "metadata": {},
   "outputs": [
    {
     "name": "stdout",
     "output_type": "stream",
     "text": [
      "Start optimization with diff-ev\n",
      "Doing for absbias\n",
      "Generation 0 has ChiSquare: 0.000456\n",
      "Generation 100 has ChiSquare: 0.000137\n",
      "Generation 200 has ChiSquare: 0.000098\n",
      "Generation 300 has ChiSquare: 0.000088\n",
      "Generation 400 has ChiSquare: 0.000080\n",
      "Generation 500 has ChiSquare: 0.000076\n",
      "Generation 600 has ChiSquare: 0.000073\n",
      "Generation 700 has ChiSquare: 0.000071\n",
      "Generation 800 has ChiSquare: 0.000070\n",
      "Generation 900 has ChiSquare: 0.000070\n",
      "Generation 1000 has ChiSquare: 0.000070\n",
      "Generation 1100 has ChiSquare: 0.000069\n",
      "Generation 1200 has ChiSquare: 0.000069\n",
      "Generation 1300 has ChiSquare: 0.000069\n",
      "Generation 1400 has ChiSquare: 0.000069\n",
      "Generation 1500 has ChiSquare: 0.000069\n",
      "Generation 1600 has ChiSquare: 0.000069\n",
      "Generation 1700 has ChiSquare: 0.000069\n",
      "Generation 1800 has ChiSquare: 0.000069\n",
      "Generation 1900 has ChiSquare: 0.000069\n",
      "Generation 2000 has ChiSquare: 0.000069\n",
      "Generation 2100 has ChiSquare: 0.000069\n",
      "Generation 2200 has ChiSquare: 0.000069\n",
      "Generation 2300 has ChiSquare: 0.000069\n",
      "Generation 2400 has ChiSquare: 0.000069\n",
      "Generation 2500 has ChiSquare: 0.000069\n",
      "Generation 2600 has ChiSquare: 0.000069\n",
      "Generation 2700 has ChiSquare: 0.000069\n",
      "Generation 2800 has ChiSquare: 0.000069\n",
      "Generation 2900 has ChiSquare: 0.000069\n",
      "Generation 3000 has ChiSquare: 0.000069\n",
      "Generation 3100 has ChiSquare: 0.000069\n",
      "Generation 3200 has ChiSquare: 0.000069\n",
      "Generation 3300 has ChiSquare: 0.000069\n",
      "STOP(\"ChangeOverGeneration with {'tolerance': 1e-11, 'generations': 500}\")\n",
      "Optimization terminated successfully.\n",
      "         Current function value: 0.000069\n",
      "         Iterations: 3386\n",
      "         Function evaluations: 1041084\n",
      "Weights in columns [[ 0.15931731  0.01765392  0.82302877]\n",
      " [ 0.15919728  0.01254034  0.82826238]\n",
      " [ 0.16445036  0.00281437  0.83273527]\n",
      " [ 0.18497313 -0.00564507  0.82067194]\n",
      " [ 0.20875632 -0.00391793  0.79516161]\n",
      " [ 0.13315272 -0.02898959  0.89583687]\n",
      " [ 0.07806099 -0.04327792  0.96521693]\n",
      " [ 0.0338605  -0.0188778   0.98501731]]\n",
      "Sum [1. 1. 1. 1. 1. 1. 1. 1.]\n"
     ]
    }
   ],
   "source": [
    "result = Optimizerkk.optimize(optversion, method = 'diff-ev', gtol = 500 ,bounds = [-4, 4]\n",
    "                              ,noisebiasconstr = False, fb = FB, inv_variance = False)"
   ]
  },
  {
   "cell_type": "code",
   "execution_count": 726,
   "metadata": {},
   "outputs": [],
   "source": [
    "a1code, a2code, a3code, w = result.ws"
   ]
  },
  {
   "cell_type": "code",
   "execution_count": 727,
   "metadata": {},
   "outputs": [
    {
     "data": {
      "text/plain": [
       "array([1.76094368e-05, 1.58147032e-05, 1.22971389e-05, 8.24933033e-06,\n",
       "       3.59026379e-06, 1.43709131e-06, 4.80650297e-07, 1.41684692e-07])"
      ]
     },
     "execution_count": 727,
     "metadata": {},
     "output_type": "execute_result"
    }
   ],
   "source": [
    "w"
   ]
  },
  {
   "cell_type": "code",
   "execution_count": 728,
   "metadata": {},
   "outputs": [
    {
     "data": {
      "text/plain": [
       "1.0"
      ]
     },
     "execution_count": 728,
     "metadata": {},
     "output_type": "execute_result"
    }
   ],
   "source": [
    "integrate_discrete(w, ells)"
   ]
  },
  {
   "cell_type": "code",
   "execution_count": 729,
   "metadata": {},
   "outputs": [
    {
     "data": {
      "text/plain": [
       "<matplotlib.legend.Legend at 0x7f44f59f9160>"
      ]
     },
     "execution_count": 729,
     "metadata": {},
     "output_type": "execute_result"
    },
    {
     "data": {
      "image/png": "[encoded data removed]",
      "text/plain": [
       "<Figure size 432x288 with 1 Axes>"
      ]
     },
     "metadata": {
      "needs_background": "light"
     },
     "output_type": "display_data"
    }
   ],
   "source": [
    "plt.title('MV solution')\n",
    "plt.plot(ells, wLcalculated, ls = '--', label = 'Analytical', color = 'black', marker = 'o')\n",
    "plt.plot(ells, w, label = 'Numerical', color = 'blue')\n",
    "plt.xscale('log')\n",
    "plt.legend()"
   ]
  },
  {
   "cell_type": "raw",
   "metadata": {},
   "source": [
    "A1prime = a1*sqrt(w)\n",
    "A2prime = a2*sqrt(w)\n",
    "A3prime = a3*sqrt(w)\n",
    "A1prime+A2prime+A3prime = (a1+a2+a3)*sqrt(w) = sqrt(w)\n",
    "w = (A1prime+A2prime+A3prime)**2"
   ]
  },
  {
   "cell_type": "code",
   "execution_count": 730,
   "metadata": {},
   "outputs": [
    {
     "data": {
      "text/plain": [
       "array([6.84368598e-05, 4.86275967e-05, 2.83575540e-05, 1.51448951e-05,\n",
       "       5.73885323e-06, 2.39306554e-06, 7.12370093e-07, 1.85465609e-07])"
      ]
     },
     "execution_count": 730,
     "metadata": {},
     "output_type": "execute_result"
    }
   ],
   "source": [
    "w_from_prime = (A1prime+A2prime+A3prime)**2\n",
    "w_from_prime"
   ]
  },
  {
   "cell_type": "code",
   "execution_count": 731,
   "metadata": {},
   "outputs": [
    {
     "data": {
      "text/plain": [
       "array([1., 1., 1., 1., 1., 1., 1., 1.])"
      ]
     },
     "execution_count": 731,
     "metadata": {},
     "output_type": "execute_result"
    }
   ],
   "source": [
    "a1 = np.nan_to_num(A1prime/np.sqrt(w_from_prime))\n",
    "a2 = np.nan_to_num(A2prime/np.sqrt(w_from_prime))\n",
    "a3 = np.nan_to_num(A3prime/np.sqrt(w_from_prime))\n",
    "a1+a2+a3"
   ]
  },
  {
   "cell_type": "code",
   "execution_count": 732,
   "metadata": {},
   "outputs": [
    {
     "data": {
      "text/plain": [
       "<matplotlib.legend.Legend at 0x7f44f52866a0>"
      ]
     },
     "execution_count": 732,
     "metadata": {},
     "output_type": "execute_result"
    },
    {
     "data": {
      "image/png": "[encoded data removed]",
      "text/plain": [
       "<Figure size 432x288 with 1 Axes>"
      ]
     },
     "metadata": {
      "needs_background": "light"
     },
     "output_type": "display_data"
    }
   ],
   "source": [
    "plt.title('MV Solution')\n",
    "\n",
    "plt.plot(ells, a1code, color = 'blue', label = 'Numerical')\n",
    "plt.plot(ells, a2code, color = 'red')\n",
    "plt.plot(ells, a3code, color = 'green')\n",
    "\n",
    "plt.plot(ells, a1, ls = '--', color = 'blue', label = 'Analytical')\n",
    "plt.plot(ells, a2, ls = '--', color = 'red')\n",
    "plt.plot(ells, a3, ls = '--', color = 'green')\n",
    "plt.xscale('log')\n",
    "plt.legend()"
   ]
  },
  {
   "cell_type": "code",
   "execution_count": null,
   "metadata": {},
   "outputs": [],
   "source": []
  },
  {
   "cell_type": "code",
   "execution_count": 733,
   "metadata": {},
   "outputs": [
    {
     "data": {
      "image/png": "[encoded data removed]",
      "text/plain": [
       "<Figure size 432x288 with 1 Axes>"
      ]
     },
     "metadata": {
      "needs_background": "light"
     },
     "output_type": "display_data"
    }
   ],
   "source": [
    "plt.plot(ells, w)\n",
    "plt.plot(ells, w_from_prime, ls = '--')\n",
    "plt.xscale('log')"
   ]
  },
  {
   "cell_type": "code",
   "execution_count": 734,
   "metadata": {},
   "outputs": [
    {
     "data": {
      "image/png": "[encoded data removed]",
      "text/plain": [
       "<Figure size 432x288 with 1 Axes>"
      ]
     },
     "metadata": {
      "needs_background": "light"
     },
     "output_type": "display_data"
    }
   ],
   "source": [
    "plt.plot(ells, a1**2*w, color = 'blue', marker = 'o')\n",
    "#plt.plot(ells, a2**2*w, color = 'red', marker = 'o')\n",
    "#plt.plot(ells, a3**2*w, color = 'green', marker = 'o')\n",
    "plt.plot(ells, A1prime**2, ls = '--', color = 'blue')\n",
    "\n",
    "plt.ylabel('Weight*OverallWeight')\n",
    "\n",
    "#plt.plot(ells, A2prime**2, ls = '--', color = 'red')\n",
    "#plt.plot(ells, A3prime**2, ls = '--', color = 'green')\n",
    "plt.xscale('log')"
   ]
  },
  {
   "cell_type": "code",
   "execution_count": 477,
   "metadata": {},
   "outputs": [
    {
     "data": {
      "text/plain": [
       "(6, 6)"
      ]
     },
     "execution_count": 477,
     "metadata": {},
     "output_type": "execute_result"
    }
   ],
   "source": [
    "K.shape"
   ]
  },
  {
   "cell_type": "code",
   "execution_count": null,
   "metadata": {},
   "outputs": [],
   "source": [
    "class AnalyticalConstrainedOpt():\n",
    "    def __init__(self, ells, invM, Bvec, constrainted_components = [3, 4, 5]):\n",
    "        '''\n",
    "        M, Bvec already divided by Ckk^2, Ckk respectively\n",
    "        '''\n",
    "        \n",
    "        self.E = np.ones(6)\n",
    "        self.P = self.getP()\n",
    "        self.Q = self.getQ()\n",
    "        \n",
    "        self.invM = invM\n",
    "        self.B = Bvec\n",
    "        \n",
    "        self.K = self.P+np.sqrt(2)*self.Q\n",
    "        \n",
    "        self.ells = ells\n",
    "        \n",
    "        self.C = np.einsum('i, ij -> j', self.E.T, K)\n",
    "        mvnorm = np.einsum('ij, ...jk, k, i -> ...', self.K, self.invM, self.C, self.E)\n",
    "        self.mvnorm = self.integrate(mvnorm, self.ells)\n",
    "        \n",
    "        #int K M^-1 B dot E\n",
    "        b_prefactor = np.einsum('ij, ...jk, ...k, i -> ...', self.K, self.invM, self.B, self.E)\n",
    "        self.b_prefactor = self.integrate(b_prefactor, self.ells)\n",
    "        \n",
    "        lambda_i_prefactor = []\n",
    "        for i in constrainted_components:\n",
    "            temp = np.einsum('ij, ...jk, k, i', self.K, self.invM, self.getPi(i), self.E)\n",
    "            lambda_i_prefactor += [self.integrate(temp, ells)]\n",
    "        self.lambda_i_prefactor = np.array(lambda_i_prefactor)\n",
    "        \n",
    "        \n",
    "        self.Lambda_lambda = np.einsum('...ij, k, kj -> ...i', self.invM, self.E.T, self.K)\n",
    "        self.Lambda_b = np.einsum('...ij, ...j -> ...i', self.invM, self.B)\n",
    "        \n",
    "        self.Lambda_lambda_i = {}\n",
    "        self.Lambda_lambda_i_list = []\n",
    "        for i in constrainted_components:\n",
    "            self.Lambda_lambda_i[i] = np.einsum('...ij, j -> ...i', self.invM, self.getPi(i))\n",
    "            self.Lambda_lambda_i_list += [self.Lambda_lambda_i[i]]\n",
    "            \n",
    "        self.Lambda_lambda_i_list = np.array(self.Lambda_lambda_i_list)\n",
    "        self.Lambda_lambda_i_list = np.rollaxis(self.Lambda_lambda_i_list, 0, self.Lambda_lambda_i_list.ndim)\n",
    "            \n",
    "        Ncomp = len(constrainted_components)\n",
    "        Nells = len(self.ells)\n",
    "        \n",
    "        self.Cijs = np.zeros((Nells, Ncomp, Ncomp))\n",
    "        for i, component in enumerate(constrainted_components):\n",
    "            for j in range(Ncomp):\n",
    "                self.Cijs[:, j, i] = self.Lambda_lambda_i[component][:, j] #Note order of index\n",
    "                                \n",
    "        self.invCijs = np.linalg.inv(self.Cijs)\n",
    "        \n",
    "        self.C_lambda = self.Lambda_lambda[:, 3:] #NOTE\n",
    "        self.C_b = self.Lambda_b[:, 3:]\n",
    "                \n",
    "        self.super_b_prefactor = np.einsum('...ij, ...j,  i-> ...', self.invCijs, self.C_b, self.lambda_i_prefactor)\n",
    "        \n",
    "        self.super_lambda_prefactor = self.mvnorm+np.einsum('...ij, ...j,  i-> ...', self.invCijs, self.C_lambda, self.lambda_i_prefactor)\n",
    "        \n",
    "        \n",
    "        \n",
    "        \n",
    "    def getPi(self, i):\n",
    "        P = np.zeros(6)\n",
    "        P[i] = 1\n",
    "        return P\n",
    "        \n",
    "    def getP(self):\n",
    "        P = np.zeros((6, 6))\n",
    "        P[0, 0] = 1\n",
    "        P[1, 1] = 1\n",
    "        P[2, 2] = 1\n",
    "        return P\n",
    "    \n",
    "    def getQ(self):\n",
    "        Q = np.zeros((6, 6))\n",
    "        Q[3, 3] = 1\n",
    "        Q[4, 4] = 1\n",
    "        Q[5, 5] = 1\n",
    "        return Q\n",
    "    \n",
    "    \n",
    "    \n",
    "    \n",
    "    def integrate(self, y, ells):\n",
    "        factor = 4*np.pi\n",
    "        return np.trapz(y*ells, ells)*(2*np.pi)/(2*np.pi)**2*factor\n",
    "\n",
    "    "
   ]
  },
  {
   "cell_type": "code",
   "execution_count": null,
   "metadata": {},
   "outputs": [],
   "source": [
    "A = AnalyticalConstrainedOpt(ells, invMandel, Bvec)"
   ]
  },
  {
   "cell_type": "code",
   "execution_count": null,
   "metadata": {},
   "outputs": [],
   "source": []
  },
  {
   "cell_type": "code",
   "execution_count": null,
   "metadata": {},
   "outputs": [],
   "source": []
  }
 ],
 "metadata": {
  "kernelspec": {
   "display_name": "WORK",
   "language": "python",
   "name": "work"
  },
  "language_info": {
   "codemirror_mode": {
    "name": "ipython",
    "version": 3
   },
   "file_extension": ".py",
   "mimetype": "text/x-python",
   "name": "python",
   "nbconvert_exporter": "python",
   "pygments_lexer": "ipython3",
   "version": "3.6.8"
  }
 },
 "nbformat": 4,
 "nbformat_minor": 4
}
