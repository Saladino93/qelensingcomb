{
 "cells": [
  {
   "cell_type": "code",
   "execution_count": null,
   "metadata": {},
   "outputs": [],
   "source": [
    "import utilities as u"
   ]
  },
  {
   "cell_type": "code",
   "execution_count": 16,
   "metadata": {},
   "outputs": [],
   "source": [
    "import re"
   ]
  },
  {
   "cell_type": "code",
   "execution_count": 13,
   "metadata": {},
   "outputs": [],
   "source": [
    "import itertools"
   ]
  },
  {
   "cell_type": "code",
   "execution_count": null,
   "metadata": {},
   "outputs": [],
   "source": [
    "import numpy as np\n",
    "import pandas\n",
    "import matplotlib.pyplot as plt"
   ]
  },
  {
   "cell_type": "code",
   "execution_count": 52,
   "metadata": {},
   "outputs": [],
   "source": [
    "import pathlib"
   ]
  },
  {
   "cell_type": "code",
   "execution_count": 60,
   "metadata": {},
   "outputs": [],
   "source": [
    "directory = 'output_biases/'\n",
    "\n",
    "dic = u.dictionary(directory)"
   ]
  },
  {
   "cell_type": "code",
   "execution_count": 61,
   "metadata": {},
   "outputs": [],
   "source": [
    "analysis_directory = 'output/'"
   ]
  },
  {
   "cell_type": "code",
   "execution_count": 62,
   "metadata": {},
   "outputs": [],
   "source": [
    "P = pathlib.Path(analysis_directory)"
   ]
  },
  {
   "cell_type": "code",
   "execution_count": 63,
   "metadata": {},
   "outputs": [],
   "source": [
    "fgnamefile = 'tsz'\n",
    "nu = 148"
   ]
  },
  {
   "cell_type": "code",
   "execution_count": 96,
   "metadata": {},
   "outputs": [],
   "source": [
    "def tfm_dict_to_matrix(estimators, dictionary, formato):\n",
    "    \n",
    "    keys = list(dictionary.keys())\n",
    "    N = len(estimators)\n",
    "    \n",
    "    all_combs = list(itertools.combinations_with_replacement(list(estimators), 2))\n",
    "    \n",
    "    element = dictionary[keys[0]]\n",
    "    \n",
    "    Q_ij = np.zeros((N, N, len(element)))\n",
    "    \n",
    "    for estA, estB in all_combs:\n",
    "\n",
    "            quantity = dictionary[formato(estA, estB)]\n",
    "\n",
    "            indexA = estimators.index(estA)\n",
    "            indexB = estimators.index(estB)\n",
    "\n",
    "            Q_ij[indexA, indexB] = quantity\n",
    "            Q_ij[indexB, indexA] = quantity\n",
    "    \n",
    "    return Q_ij\n",
    "\n",
    "def tfm_dict_to_array(estimators, dictionary, formato):\n",
    "    \n",
    "    keys = list(dictionary.keys())\n",
    "    N = len(keys)\n",
    "    \n",
    "    element = dictionary[keys[0]]\n",
    "    \n",
    "    Q_i = np.zeros((N, len(element)))\n",
    "    \n",
    "    for estA in estimators:\n",
    "\n",
    "            quantity = dictionary[formato(estA)]\n",
    "            \n",
    "            indexA = estimators.index(estA)\n",
    "\n",
    "            Q_i[indexA] = quantity\n",
    "    \n",
    "    return Q_i\n",
    "    "
   ]
  },
  {
   "cell_type": "code",
   "execution_count": 97,
   "metadata": {},
   "outputs": [],
   "source": [
    "def get_array_from_dict(element):\n",
    "    lista = []\n",
    "    \n",
    "    for name in element.keys():\n",
    "        uppercase = re.sub('[^A-Z]', '', name)\n",
    "        string = re.sub(r'[A-Z]+-', '', name)\n",
    "        lista += re.split('-', string)\n",
    "        \n",
    "    estimators = list(set(lista))\n",
    "    \n",
    "    if len(estimators) == len(lista):\n",
    "        formato = lambda estA: f'{uppercase}-{estA}'\n",
    "        result = tfm_dict_to_array(estimators, element, formato)\n",
    "    else:\n",
    "        formato = lambda estA, estB: f'{uppercase}-{estA}-{estB}'\n",
    "        result = tfm_dict_to_matrix(estimators, element, formato)\n",
    "        \n",
    "    return result"
   ]
  },
  {
   "cell_type": "code",
   "execution_count": 98,
   "metadata": {},
   "outputs": [],
   "source": [
    "Nsims = 1\n",
    "\n",
    "P = pathlib.Path(analysis_directory)\n",
    "\n",
    "for i in range(1):\n",
    "    \n",
    "    dictionary_temp = dic.read(f'{fgnamefile}_{nu}_{i}')\n",
    "    \n",
    "    #Loop over the elements of the saved dictionary\n",
    "    for k, element in dictionary_temp.items():\n",
    "        \n",
    "        total = 0.\n",
    "        \n",
    "        for j in range(Nsims):\n",
    "        \n",
    "            #If you have a dictionary\n",
    "            if isinstance(element, dict):  \n",
    "                total += get_array_from_dict(element)\n",
    "            #If you do not have a dictionary\n",
    "            else:\n",
    "                total += element\n",
    "                \n",
    "        outname = f'{k}.npy'\n",
    "        np.save(P/outname, total)"
   ]
  },
  {
   "cell_type": "code",
   "execution_count": 99,
   "metadata": {},
   "outputs": [],
   "source": [
    "Noah = pandas.read_csv('../extract_sehgal/Ckk_biases_lmaxT_3500.csv')"
   ]
  },
  {
   "cell_type": "code",
   "execution_count": 100,
   "metadata": {},
   "outputs": [
    {
     "data": {
      "text/plain": [
       "dict_keys(['N', 'T', 'P', 'S', 'PC', 'kk', 'kg', 'ells'])"
      ]
     },
     "execution_count": 100,
     "metadata": {},
     "output_type": "execute_result"
    }
   ],
   "source": [
    "dictionary_temp.keys()"
   ]
  },
  {
   "cell_type": "code",
   "execution_count": 101,
   "metadata": {},
   "outputs": [],
   "source": [
    "read_element = lambda key: np.load(P/f'{key}.npy')\n",
    "\n",
    "\n",
    "bias = read_element('T')\n",
    "ells = read_element('ells')\n",
    "    \n",
    "\n",
    "    "
   ]
  },
  {
   "cell_type": "code",
   "execution_count": 108,
   "metadata": {},
   "outputs": [],
   "source": [
    "getNoah = lambda e, b, f: Noah[f'{e} {b}, {f}']\n",
    "getNoah_tSZ = lambda e, b: getNoah(e, b, 'tSZ')\n",
    "\n",
    "NoahT = getNoah_tSZ('QE', 'trispectrum')\n",
    "\n",
    "NoahCents = Noah['lCen']"
   ]
  },
  {
   "cell_type": "code",
   "execution_count": 113,
   "metadata": {},
   "outputs": [
    {
     "data": {
      "image/png": "[encoded data removed]",
      "text/plain": [
       "<Figure size 432x288 with 1 Axes>"
      ]
     },
     "metadata": {
      "needs_background": "light"
     },
     "output_type": "display_data"
    }
   ],
   "source": [
    "plt.plot(NoahCents, NoahT)\n",
    "plt.plot(ells, bias[0, 0])\n",
    "plt.yscale('log')\n",
    "plt.xscale('log')"
   ]
  },
  {
   "cell_type": "code",
   "execution_count": null,
   "metadata": {},
   "outputs": [],
   "source": []
  }
 ],
 "metadata": {
  "kernelspec": {
   "display_name": "WORK",
   "language": "python",
   "name": "work"
  },
  "language_info": {
   "codemirror_mode": {
    "name": "ipython",
    "version": 3
   },
   "file_extension": ".py",
   "mimetype": "text/x-python",
   "name": "python",
   "nbconvert_exporter": "python",
   "pygments_lexer": "ipython3",
   "version": "3.6.8"
  }
 },
 "nbformat": 4,
 "nbformat_minor": 4
}
