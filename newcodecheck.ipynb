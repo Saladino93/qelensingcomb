{
 "cells": [
  {
   "cell_type": "code",
   "execution_count": 1,
   "metadata": {},
   "outputs": [],
   "source": [
    "import utilities as u"
   ]
  },
  {
   "cell_type": "code",
   "execution_count": 2,
   "metadata": {},
   "outputs": [],
   "source": [
    "import re"
   ]
  },
  {
   "cell_type": "code",
   "execution_count": 3,
   "metadata": {},
   "outputs": [],
   "source": [
    "import itertools"
   ]
  },
  {
   "cell_type": "code",
   "execution_count": 4,
   "metadata": {},
   "outputs": [],
   "source": [
    "import numpy as np\n",
    "import pandas\n",
    "import matplotlib.pyplot as plt"
   ]
  },
  {
   "cell_type": "code",
   "execution_count": 5,
   "metadata": {},
   "outputs": [],
   "source": [
    "import pathlib"
   ]
  },
  {
   "cell_type": "code",
   "execution_count": 6,
   "metadata": {},
   "outputs": [],
   "source": [
    "directory = 'output_biases/'\n",
    "\n",
    "dic = u.dictionary(directory)"
   ]
  },
  {
   "cell_type": "code",
   "execution_count": 7,
   "metadata": {},
   "outputs": [],
   "source": [
    "analysis_directory = 'output/'"
   ]
  },
  {
   "cell_type": "code",
   "execution_count": 8,
   "metadata": {},
   "outputs": [],
   "source": [
    "P = pathlib.Path(analysis_directory)"
   ]
  },
  {
   "cell_type": "code",
   "execution_count": 9,
   "metadata": {},
   "outputs": [],
   "source": [
    "fgnamefile = 'tsz'\n",
    "nu = 148"
   ]
  },
  {
   "cell_type": "code",
   "execution_count": 42,
   "metadata": {},
   "outputs": [],
   "source": [
    "Nsims = 80\n",
    "\n",
    "P = pathlib.Path(analysis_directory)\n",
    "\n",
    "for i in range(1):\n",
    "    \n",
    "    dictionary_temp = dic.read(f'{fgnamefile}_{nu}_{i}')\n",
    "    \n",
    "    #Loop over the elements of the saved dictionary\n",
    "    for k, element in dictionary_temp.items():\n",
    "        \n",
    "        total = []\n",
    "\n",
    "        for j in range(Nsims):\n",
    "            array = u.get_element(element)\n",
    "            total += [array]\n",
    "        \n",
    "        total = np.array(total)\n",
    "        \n",
    "        mean, scatter = u.get_mean_and_scatter(Nsims, total)\n",
    "                \n",
    "        outname = f'{k}.npy'\n",
    "        np.save(P/outname, mean)\n",
    "        \n",
    "        els = ['ells']\n",
    "        if not k in els:\n",
    "            outname = f'scatter_{k}.npy'\n",
    "            np.save(P/outname, scatter)"
   ]
  },
  {
   "cell_type": "code",
   "execution_count": 29,
   "metadata": {},
   "outputs": [],
   "source": [
    "Noah = pandas.read_csv('../extract_sehgal/Ckk_biases_lmaxT_3500.csv')"
   ]
  },
  {
   "cell_type": "code",
   "execution_count": 30,
   "metadata": {},
   "outputs": [
    {
     "data": {
      "text/plain": [
       "dict_keys(['N', 'T', 'P', 'S', 'PC', 'kk', 'kg', 'ells'])"
      ]
     },
     "execution_count": 30,
     "metadata": {},
     "output_type": "execute_result"
    }
   ],
   "source": [
    "dictionary_temp.keys()"
   ]
  },
  {
   "cell_type": "code",
   "execution_count": 33,
   "metadata": {},
   "outputs": [],
   "source": [
    "read_element = lambda key: np.load(P/f'{key}.npy')\n",
    "\n",
    "tipo = 'T'\n",
    "\n",
    "bias = read_element(tipo)\n",
    "scatters = np.load(P/f'scatter_{tipo}.npy')\n",
    "\n",
    "kk = read_element('kk')\n",
    "ells = read_element('ells')\n",
    "    \n",
    "\n",
    "    "
   ]
  },
  {
   "cell_type": "code",
   "execution_count": 34,
   "metadata": {},
   "outputs": [],
   "source": [
    "getNoah = lambda e, b, f: Noah[f'{e} {b}, {f}']\n",
    "getNoah_tSZ = lambda e, b: getNoah(e, b, 'tSZ')\n",
    "\n",
    "getNoah_tSZ_trispectrum = lambda e: getNoah_tSZ(e, 'trispectrum')\n",
    "getNoah_tSZ_primary = lambda e: getNoah_tSZ(e, 'primary')\n",
    "getNoah_tSZ_secondary = lambda e: getNoah_tSZ(e, 'secondary')\n",
    "\n",
    "NoahT = getNoah_tSZ_trispectrum('QE')\n",
    "NoahP = getNoah_tSZ_primary('QE')\n",
    "NoahS = getNoah_tSZ_secondary('QE')\n",
    "\n",
    "NoahCents = Noah['lCen']"
   ]
  },
  {
   "cell_type": "code",
   "execution_count": 35,
   "metadata": {},
   "outputs": [
    {
     "data": {
      "text/plain": [
       "'../toNIAGARA24112020/LensQuEst-1/out_txt/'"
      ]
     },
     "execution_count": 35,
     "metadata": {},
     "output_type": "execute_result"
    }
   ],
   "source": [
    "'../toNIAGARA24112020/LensQuEst-1/out_txt/'"
   ]
  },
  {
   "cell_type": "code",
   "execution_count": 37,
   "metadata": {},
   "outputs": [],
   "source": [
    "clkkmanu = 0.\n",
    "for num in range(5):\n",
    "    ll, clkkmanu_ = np.loadtxt(f'../toNIAGARA24112020/LensQuEst-1/out_txt/kk_{num}.txt', unpack = True)\n",
    "    clkkmanu += clkkmanu_\n",
    "clkkmanu /= 5"
   ]
  },
  {
   "cell_type": "code",
   "execution_count": 38,
   "metadata": {},
   "outputs": [],
   "source": [
    "Plotting = u.Plotting('Biases', lminplot = 30, lmaxplot = 2000, xscale = 'log')"
   ]
  },
  {
   "cell_type": "code",
   "execution_count": 96,
   "metadata": {},
   "outputs": [
    {
     "data": {
      "image/png": "[encoded data removed]",
      "text/plain": [
       "<Figure size 432x288 with 1 Axes>"
      ]
     },
     "metadata": {
      "needs_background": "light"
     },
     "output_type": "display_data"
    }
   ],
   "source": [
    "Plotting.plotsel(ells, kk, ls = '--')\n",
    "Plotting.plotsel(ll, clkkmanu)\n",
    "#plt.yscale('log')\n",
    "plt.xscale('log')\n"
   ]
  },
  {
   "cell_type": "code",
   "execution_count": 97,
   "metadata": {},
   "outputs": [
    {
     "name": "stdout",
     "output_type": "stream",
     "text": [
      "[1. 1. 1. 1. 1. 1. 1. 1. 1. 1. 1. 1. 1. 1. 1. 1. 1. 1. 1. 1. 1. 1. 1. 1.\n",
      " 1. 1. 1. 1. 1. 1. 1. 1. 1. 1. 1. 1. 1. 1. 1.]\n"
     ]
    },
    {
     "data": {
      "image/png": "[encoded data removed]",
      "text/plain": [
       "<Figure size 432x288 with 1 Axes>"
      ]
     },
     "metadata": {
      "needs_background": "light"
     },
     "output_type": "display_data"
    }
   ],
   "source": [
    "Plotting = u.Plotting('Biases', lminplot = 30, lmaxplot = 2000, xscale = 'log')\n",
    "\n",
    "total = []\n",
    "\n",
    "for j in range(Nsims):\n",
    "    dictionary = dic.read(f'{fgnamefile}_{nu}_{j}')\n",
    "    array = u.get_element(dictionary['T'])[0, 0]\n",
    "    total += [array]\n",
    "    plt.plot(ells, array, alpha = 0.1)\n",
    "    \n",
    "\n",
    "total = np.array(total)\n",
    "\n",
    "mean, scatter_2 = u.get_mean_and_scatter(Nsims, total)\n",
    "\n",
    "diff = total-mean\n",
    "\n",
    "scatter = np.sum((diff)**2, axis = 0)/(Nsims-1)\n",
    "scatter /= Nsims #for the mean\n",
    "scatter = np.sqrt(scatter)\n",
    "\n",
    "print(scatter/scatter_2)\n",
    "\n",
    "Plotting.plotsel(ells, mean/kk, scatter/kk, color = 'black', filling = True)\n",
    "\n",
    "Plotting.plotsel(NoahCents, NoahT/np.interp(NoahCents, ells, kk))\n",
    "\n",
    "#plt.ylim(0, 4e-9)\n",
    "\n",
    "\n",
    "plt.xscale('log')\n",
    "\n",
    "plt.show()\n",
    "\n",
    "\n"
   ]
  },
  {
   "cell_type": "code",
   "execution_count": 93,
   "metadata": {},
   "outputs": [
    {
     "data": {
      "image/png": "[encoded data removed]",
      "text/plain": [
       "<Figure size 432x288 with 1 Axes>"
      ]
     },
     "metadata": {
      "needs_background": "light"
     },
     "output_type": "display_data"
    }
   ],
   "source": [
    "Plotting = u.Plotting('Biases', lminplot = 30, lmaxplot = 2000, xscale = 'log')\n",
    "#Plotting.plotsel(NoahCents, NoahT, color = 'red')\n",
    "#Plotting.plotsel(ells, bias[0, 0], errs = scatters[0, 1])\n",
    "Plotting.plotsel(ells, mean, scatter, color = 'black')\n",
    "\n"
   ]
  },
  {
   "cell_type": "code",
   "execution_count": null,
   "metadata": {},
   "outputs": [],
   "source": [
    "\n",
    "\n",
    "\n",
    "\n"
   ]
  }
 ],
 "metadata": {
  "kernelspec": {
   "display_name": "WORK",
   "language": "python",
   "name": "work"
  },
  "language_info": {
   "codemirror_mode": {
    "name": "ipython",
    "version": 3
   },
   "file_extension": ".py",
   "mimetype": "text/x-python",
   "name": "python",
   "nbconvert_exporter": "python",
   "pygments_lexer": "ipython3",
   "version": "3.6.8"
  }
 },
 "nbformat": 4,
 "nbformat_minor": 4
}
