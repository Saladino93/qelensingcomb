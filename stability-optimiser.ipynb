{
 "cells": [
  {
   "cell_type": "code",
   "execution_count": 1,
   "metadata": {},
   "outputs": [],
   "source": [
    "import pathlib\n",
    "\n",
    "import yaml\n",
    "\n",
    "import numpy as np\n",
    "\n",
    "import itertools"
   ]
  },
  {
   "cell_type": "code",
   "execution_count": 2,
   "metadata": {},
   "outputs": [],
   "source": [
    "from pixell import enmap, utils as putils"
   ]
  },
  {
   "cell_type": "code",
   "execution_count": 3,
   "metadata": {},
   "outputs": [],
   "source": [
    "import utilities as u"
   ]
  },
  {
   "cell_type": "code",
   "execution_count": 4,
   "metadata": {},
   "outputs": [],
   "source": [
    "import matplotlib.pyplot as plt\n",
    "\n",
    "import matplotlib.font_manager as font_manager\n",
    "\n",
    "from IPython.display import set_matplotlib_formats\n",
    "set_matplotlib_formats('retina')\n",
    "plt.rcParams['figure.figsize'] = [12, 8]\n",
    "\n",
    "csfont = {'fontname':'cmss10'}\n",
    "font = font_manager.FontProperties(family='Latin Modern Roman',\n",
    "                                   style='normal', size = 8)\n"
   ]
  },
  {
   "cell_type": "code",
   "execution_count": 5,
   "metadata": {},
   "outputs": [],
   "source": [
    "import best\n",
    "import re"
   ]
  },
  {
   "cell_type": "code",
   "execution_count": 6,
   "metadata": {},
   "outputs": [],
   "source": [
    "values_file = 'configurations/configILC_plotting_profile.yaml' \n",
    "with open(values_file, 'r') as stream:\n",
    "            data = yaml.safe_load(stream)"
   ]
  },
  {
   "cell_type": "code",
   "execution_count": 7,
   "metadata": {},
   "outputs": [],
   "source": [
    "\n",
    "\n",
    "plots_directory = data['plotsdirectory']\n",
    "\n",
    "analysis_directory = data['analysisdirectory']\n",
    "\n",
    "savingdirectory = data['savingdirectory']\n",
    "\n",
    "Nsims = data['Nsims']\n",
    "\n",
    "results_directory = data['resultsdirectory']\n",
    "spectra_path = data['spectra_path']\n",
    "sims_directory = data['sims_directory']\n",
    "WR = u.write_read(sims_directory)\n",
    "\n",
    "PP = pathlib.Path(analysis_directory)\n",
    "Pplots = pathlib.Path(plots_directory)\n",
    "\n",
    "fgnamefiles = data['fgnamefiles']\n",
    "\n",
    "estimators_dictionary = data['estimators']\n",
    "estimators = list(estimators_dictionary.keys())\n",
    "\n",
    "\n",
    "lista_lmaxes = []\n",
    "\n",
    "names = {}\n",
    "\n",
    "for e in estimators:\n",
    "    elemento = estimators_dictionary[e]\n",
    "    names[e] = elemento['direc_name']\n",
    "    lmax_min, lmax_max = elemento['lmax_min'], elemento['lmax_max']\n",
    "    num = elemento['number']\n",
    "    lista_lmaxes += [np.linspace(lmax_min, lmax_max, num, dtype = int)]\n",
    "\n",
    "lmaxes_configs = list(itertools.product(*lista_lmaxes))\n",
    "\n",
    "\n",
    "#CHOOSE nu\n",
    "nu = estimators_dictionary[estimators[0]]['nu']"
   ]
  },
  {
   "cell_type": "code",
   "execution_count": 8,
   "metadata": {},
   "outputs": [
    {
     "data": {
      "text/plain": [
       "['hu_ok', 'shear', 'bh', 'pbh', 'symm', 'symmbh']"
      ]
     },
     "execution_count": 8,
     "metadata": {},
     "output_type": "execute_result"
    }
   ],
   "source": [
    "estimators"
   ]
  },
  {
   "cell_type": "code",
   "execution_count": 9,
   "metadata": {},
   "outputs": [],
   "source": [
    "noisetag = data['noisekey']\n",
    "trispectrumtag = data['trispectrumkey']\n",
    "primarytag = data['primarykey']\n",
    "secondarytag = data['secondarykey']\n",
    "primarycrosstag = data['primarycrosskey']\n",
    "\n",
    "lmin_sel, lmax_sel = data['lmin_sel'], data['lmax_sel']\n",
    "\n",
    "optversion = data['optversion']"
   ]
  },
  {
   "cell_type": "code",
   "execution_count": 10,
   "metadata": {},
   "outputs": [],
   "source": [
    "colors_ests = {}\n",
    "labels_ests = {}\n",
    "for e in estimators:\n",
    "    colors_ests[e] = estimators_dictionary[e]['color']\n",
    "    labels_ests[e] = estimators_dictionary[e]['label']"
   ]
  },
  {
   "cell_type": "code",
   "execution_count": 11,
   "metadata": {},
   "outputs": [],
   "source": [
    "noisebiasconstr = False"
   ]
  },
  {
   "cell_type": "code",
   "execution_count": 12,
   "metadata": {},
   "outputs": [],
   "source": [
    "get_dir = lambda h, s, b, p, sy, sybh: f'h{h}s{s}b{b}p{p}sy{sy}sybh{sybh}'"
   ]
  },
  {
   "cell_type": "code",
   "execution_count": 13,
   "metadata": {},
   "outputs": [],
   "source": [
    "l = 3500"
   ]
  },
  {
   "cell_type": "code",
   "execution_count": 14,
   "metadata": {},
   "outputs": [],
   "source": [
    "kk = np.load(pathlib.Path(analysis_directory)/get_dir(l, l, l, l, l, l)/'kk_ilc.npy')\n",
    "theta = np.load(pathlib.Path(analysis_directory)/get_dir(l, l, l, l, l, l)/'theta_ilc.npy')\n",
    "ells = np.load(pathlib.Path(analysis_directory)/get_dir(l, l, l, l, l, l)/'ells_ilc.npy')\n",
    "selection = (ells > 30) & (ells < 1200)"
   ]
  },
  {
   "cell_type": "code",
   "execution_count": 15,
   "metadata": {},
   "outputs": [],
   "source": [
    "resultspath = pathlib.Path(results_directory)"
   ]
  },
  {
   "cell_type": "code",
   "execution_count": 16,
   "metadata": {},
   "outputs": [],
   "source": [
    "paperplots = pathlib.Path('paperplots/')"
   ]
  },
  {
   "cell_type": "code",
   "execution_count": 17,
   "metadata": {},
   "outputs": [],
   "source": [
    "fnb_getter = lambda Opt, fb_val, invvar: Opt.get_f_n_b(Opt.ells_selected, Opt.theory_selected, Opt.theta_selected, Opt.biases_selected,\n",
    "                              sum_biases_squared = False, bias_squared = False, fb = fb_val, inv_variance = invvar)"
   ]
  },
  {
   "cell_type": "code",
   "execution_count": 18,
   "metadata": {},
   "outputs": [],
   "source": [
    "def get_est_weights(Opt, index):\n",
    "    '''\n",
    "    index = 0, 1, ....\n",
    "    e.g. h, s, b -> index = 1 gives s\n",
    "    '''\n",
    "    Nest = len(Opt.estimators)\n",
    "    nbins = Opt.nbins\n",
    "    zeros = np.zeros(Nest*nbins)\n",
    "    for j in range(nbins):\n",
    "        zeros[index+Nest*j:index+(Nest*j+1)] = 1.\n",
    "    return zeros"
   ]
  },
  {
   "cell_type": "code",
   "execution_count": 19,
   "metadata": {},
   "outputs": [],
   "source": [
    "fb = 1.\n",
    "invvariance = False\n",
    "noisebiasconstr = False"
   ]
  },
  {
   "cell_type": "code",
   "execution_count": 20,
   "metadata": {},
   "outputs": [],
   "source": [
    "analysis_directory_ref = 'output_ILC_1102'"
   ]
  },
  {
   "cell_type": "code",
   "execution_count": 21,
   "metadata": {},
   "outputs": [],
   "source": [
    "reference_directory = pathlib.Path(analysis_directory_ref)/'h4000s4000b4000p4000sypbh4000sybh4000/total/'\n",
    "\n",
    "kk = np.load(reference_directory/'kk_total_ilc.npy')\n",
    "theta = np.load(reference_directory/'theta_total_ilc.npy')\n",
    "ells = np.load(reference_directory/'ells_total_ilc.npy')\n",
    "selection = (ells > 30) & (ells < 1200)\n",
    "biases = np.load(reference_directory/'totalbias_total_ilc.npy')\n",
    "noises = np.load(reference_directory/'N_total_ilc.npy')\n",
    "estimators_reference = ['h', 's', 'b', 'p', 'sy', 'sybh']\n",
    "Optimizerkk = best.Opt(estimators_reference, lmin_sel, lmax_sel, ells, kk, theta, biases, noises)\n",
    "#x_estimator = get_est_weights(Optimizerkk, index = 0)\n",
    "#f, n, b = fnb_getter(Optimizerkk, fb, True)\n",
    "#f_ref, n_ref, b_ref = f(x_estimator), n(x_estimator), b(x_estimator)"
   ]
  },
  {
   "cell_type": "code",
   "execution_count": 22,
   "metadata": {},
   "outputs": [
    {
     "data": {
      "text/plain": [
       "PosixPath('output_ILC_1102/h4000s4000b4000p4000sypbh4000sybh4000/total')"
      ]
     },
     "execution_count": 22,
     "metadata": {},
     "output_type": "execute_result"
    }
   ],
   "source": [
    "reference_directory"
   ]
  },
  {
   "cell_type": "code",
   "execution_count": 23,
   "metadata": {},
   "outputs": [],
   "source": [
    "Nells = len(ells)"
   ]
  },
  {
   "cell_type": "code",
   "execution_count": 24,
   "metadata": {},
   "outputs": [],
   "source": [
    "directory = pathlib.Path('resultssumfg_ILC_1503_newreg/b4000sybh3500p3500sy4500/')\n",
    "directory = pathlib.Path('resultssumfg_ILC_1503_newreg/b4000sybh3500p3500sy4000/')\n",
    "directory = pathlib.Path('resultssumfg_ILC_1503_newreg/b4000sybh3500p4500sy4000/')"
   ]
  },
  {
   "cell_type": "code",
   "execution_count": 28,
   "metadata": {},
   "outputs": [],
   "source": [
    "all_configs = []\n",
    "all_its = [1, 2, 3, 4, 5, 6, 7, 8, 9, 10]\n",
    "all_scales =  [0.6, 0.7, 0.75, 0.8, 0.85, 0.9, 0.95]\n",
    "\n",
    "all_crosses = [0.75, 0.85, 0.9, 0.92, 0.95, 1.0]\n",
    "\n",
    "for i in all_its:\n",
    "    for s in all_scales:\n",
    "        for c in all_crosses:\n",
    "            all_configs += [(i, s, c)]"
   ]
  },
  {
   "cell_type": "code",
   "execution_count": 36,
   "metadata": {},
   "outputs": [],
   "source": [
    "all_scales = [0.8]\n",
    "cross = 0.92"
   ]
  },
  {
   "cell_type": "code",
   "execution_count": 43,
   "metadata": {},
   "outputs": [
    {
     "name": "stdout",
     "output_type": "stream",
     "text": [
      "7.146761621843586e-05\n",
      "7.146820362118196e-05\n",
      "7.14672464263495e-05\n",
      "7.146795458884653e-05\n",
      "7.146811022109516e-05\n",
      "7.146808461325113e-05\n",
      "7.146813411288181e-05\n",
      "7.146798624810079e-05\n",
      "7.146756938769521e-05\n",
      "7.146798160801067e-05\n"
     ]
    },
    {
     "data": {
      "image/png": "[encoded data removed]",
      "text/plain": [
       "<Figure size 864x576 with 1 Axes>"
      ]
     },
     "metadata": {
      "image/png": {
       "height": 482,
       "width": 721
      },
      "needs_background": "light"
     },
     "output_type": "display_data"
    }
   ],
   "source": [
    "for scale in all_scales:\n",
    "    plt.title(f'scale = {scale}')\n",
    "    for i in all_its:\n",
    "        ws = np.load(directory/f'w_auto_fb_1.0_scale_{scale}_cross_{cross}_it_{i}_nonregularised.npy')\n",
    "        ells = ws[0]\n",
    "        wplot = ws[2]\n",
    "        sel = wplot<1e-3\n",
    "        #wplot[sel] = 0.\n",
    "        #print(wplot)\n",
    "        plt.plot(ells, wplot, label = i, alpha = 0.1*i)\n",
    "        ells = ws[0]\n",
    "        \n",
    "        alens = np.load(directory/f'alens_scale_{scale}_cross_{cross}_it_{i}_nonregularised.npy')\n",
    "        print(alens[0, 0])\n",
    "        \n",
    "    plt.legend(loc = 'best')\n",
    "    plt.xscale('log')\n",
    "    plt.show()"
   ]
  },
  {
   "cell_type": "code",
   "execution_count": null,
   "metadata": {},
   "outputs": [],
   "source": []
  },
  {
   "cell_type": "code",
   "execution_count": 122,
   "metadata": {},
   "outputs": [],
   "source": [
    "direc = pathlib.Path('resultssumfg_ILC_1503_non_reg/b3000sybh3000p3000sy3000/')"
   ]
  },
  {
   "cell_type": "code",
   "execution_count": 130,
   "metadata": {},
   "outputs": [],
   "source": [
    "historyv2 = np.load(direc/'h_auto_fb_1.0.npy')"
   ]
  },
  {
   "cell_type": "code",
   "execution_count": 129,
   "metadata": {},
   "outputs": [],
   "source": [
    "#historyv1"
   ]
  },
  {
   "cell_type": "code",
   "execution_count": 131,
   "metadata": {},
   "outputs": [
    {
     "data": {
      "text/plain": [
       "array([0.00069307, 0.00069307, 0.00069307, ..., 0.00010555, 0.00010555,\n",
       "       0.00010555])"
      ]
     },
     "execution_count": 131,
     "metadata": {},
     "output_type": "execute_result"
    }
   ],
   "source": [
    "historyv1[:, -1]"
   ]
  },
  {
   "cell_type": "code",
   "execution_count": 132,
   "metadata": {},
   "outputs": [
    {
     "data": {
      "text/plain": [
       "array([0.00072609, 0.00072609, 0.00072609, ..., 0.00010393, 0.00010393,\n",
       "       0.00010393])"
      ]
     },
     "execution_count": 132,
     "metadata": {},
     "output_type": "execute_result"
    }
   ],
   "source": [
    "historyv2[:, -1]"
   ]
  },
  {
   "cell_type": "code",
   "execution_count": 138,
   "metadata": {},
   "outputs": [
    {
     "data": {
      "text/plain": [
       "[<matplotlib.lines.Line2D at 0x7f42f8d50f98>]"
      ]
     },
     "execution_count": 138,
     "metadata": {},
     "output_type": "execute_result"
    },
    {
     "data": {
      "image/png": "[encoded data removed]",
      "text/plain": [
       "<Figure size 864x576 with 1 Axes>"
      ]
     },
     "metadata": {
      "image/png": {
       "height": 465,
       "width": 726
      },
      "needs_background": "light"
     },
     "output_type": "display_data"
    }
   ],
   "source": [
    "plt.plot(historyv1[:, -1])\n",
    "plt.plot(historyv2[:, -1])"
   ]
  },
  {
   "cell_type": "code",
   "execution_count": null,
   "metadata": {},
   "outputs": [],
   "source": []
  },
  {
   "cell_type": "code",
   "execution_count": null,
   "metadata": {},
   "outputs": [],
   "source": []
  }
 ],
 "metadata": {
  "kernelspec": {
   "display_name": "WORK",
   "language": "python",
   "name": "work"
  },
  "language_info": {
   "codemirror_mode": {
    "name": "ipython",
    "version": 3
   },
   "file_extension": ".py",
   "mimetype": "text/x-python",
   "name": "python",
   "nbconvert_exporter": "python",
   "pygments_lexer": "ipython3",
   "version": "3.6.8"
  }
 },
 "nbformat": 4,
 "nbformat_minor": 4
}
